{
  "nbformat": 4,
  "nbformat_minor": 0,
  "metadata": {
    "colab": {
      "provenance": []
    },
    "kernelspec": {
      "name": "python3",
      "display_name": "Python 3"
    },
    "language_info": {
      "name": "python"
    }
  },
  "cells": [
    {
      "cell_type": "markdown",
      "source": [
        "# Code for visualize the filters of convolutional neural network\n",
        "\n"
      ],
      "metadata": {
        "id": "hNqLADrtegvG"
      }
    },
    {
      "cell_type": "code",
      "execution_count": 1,
      "metadata": {
        "id": "1wNFU_7kvpAP"
      },
      "outputs": [],
      "source": [
        "import numpy as np\n",
        "import pandas as pd\n",
        "import torch\n",
        "import torch.nn as nn\n",
        "from torch.hub import load_state_dict_from_url\n",
        "import matplotlib.pyplot as plt\n",
        "import math\n",
        "import torchvision.transforms as transforms\n",
        "from torchvision import models"
      ]
    },
    {
      "cell_type": "code",
      "source": [
        "def conv_layer_indices(model):\n",
        "    '''\n",
        "    identify the convolutional layer in the CNN\n",
        "    '''\n",
        "    conv_layers = []\n",
        "    for name, module in model.named_modules():\n",
        "        if isinstance(module, nn.Conv2d):\n",
        "            conv_layers.append(int(name.split(\".\")[1]))\n",
        "    return conv_layers\n",
        "\n",
        "pret_mod = models.alexnet(pretrained=True)\n",
        "filt_idx = conv_layer_indices(pret_mod)\n",
        "filt_idx"
      ],
      "metadata": {
        "colab": {
          "base_uri": "https://localhost:8080/"
        },
        "id": "y_q50K_QqXV7",
        "outputId": "6b4ef40d-a378-47af-eeba-a4cd756331b1"
      },
      "execution_count": 3,
      "outputs": [
        {
          "output_type": "stream",
          "name": "stderr",
          "text": [
            "/usr/local/lib/python3.10/dist-packages/torchvision/models/_utils.py:208: UserWarning: The parameter 'pretrained' is deprecated since 0.13 and may be removed in the future, please use 'weights' instead.\n",
            "  warnings.warn(\n",
            "/usr/local/lib/python3.10/dist-packages/torchvision/models/_utils.py:223: UserWarning: Arguments other than a weight enum or `None` for 'weights' are deprecated since 0.13 and may be removed in the future. The current behavior is equivalent to passing `weights=AlexNet_Weights.IMAGENET1K_V1`. You can also use `weights=AlexNet_Weights.DEFAULT` to get the most up-to-date weights.\n",
            "  warnings.warn(msg)\n",
            "Downloading: \"https://download.pytorch.org/models/alexnet-owt-7be5be79.pth\" to /root/.cache/torch/hub/checkpoints/alexnet-owt-7be5be79.pth\n",
            "100%|██████████| 233M/233M [00:02<00:00, 87.2MB/s]\n"
          ]
        },
        {
          "output_type": "execute_result",
          "data": {
            "text/plain": [
              "[0, 3, 6, 8, 10]"
            ]
          },
          "metadata": {},
          "execution_count": 3
        }
      ]
    },
    {
      "cell_type": "code",
      "source": [
        "def fetch_filters(model, idx_conv_layer = [0, 3, 6, 8, 10], layer = 0):\n",
        "    '''\n",
        "    fetch the filters and plot them\n",
        "    it plot the first 16 filters\n",
        "    '''\n",
        "\n",
        "    filters = []\n",
        "    for layer_idx in idx_conv_layer:\n",
        "        filters.append(model.features[layer_idx].weight.data)\n",
        "    t = filters[idx_conv_layer.index(layer)]\n",
        "    fig = plt.figure(figsize=(4,4))\n",
        "    num_rows = 4\n",
        "    num_cols = 4\n",
        "    if layer == 0:\n",
        "      plt_dim = int(math.sqrt(16))\n",
        "      fig, axis =plt.subplots(plt_dim, plt_dim)\n",
        "      ax = axis.flatten()\n",
        "      for i in range(16):\n",
        "        npimg = np.array(t[i].numpy(), np.float32)\n",
        "\n",
        "        npimg = (npimg - np.mean(npimg)) / np.std(npimg)\n",
        "        npimg = np.minimum(1, np.maximum(0, (npimg + 0.5)))\n",
        "        npimg = npimg.transpose((1, 2, 0))\n",
        "        ax[i].imshow(npimg)\n",
        "        ax[i].axis('off')\n",
        "        ax[i].set_title(str(i))\n",
        "        ax[i].set_xticklabels([])\n",
        "        ax[i].set_yticklabels([])\n",
        "      plt.tight_layout()\n",
        "      plt.plot()\n",
        "    else:\n",
        "      plt_dim = int(math.sqrt(16))\n",
        "      fig, axis =plt.subplots(plt_dim, plt_dim)\n",
        "      ax = axis.flatten()\n",
        "      for i in range(len(ax)):\n",
        "        ax[i].imshow(filters[idx_conv_layer.index(layer)].numpy()[i][0], cmap=\"gray\")\n",
        "        ax[i].set_title(str(i))\n",
        "        ax[i].axis('off')\n",
        "      plt.tight_layout()\n",
        "      plt.plot()"
      ],
      "metadata": {
        "id": "Lt3gdgLDqeoh"
      },
      "execution_count": 4,
      "outputs": []
    },
    {
      "cell_type": "code",
      "source": [
        "conv_layer = 0\n",
        "fetch_filters(pret_mod, filt_idx, layer = conv_layer)"
      ],
      "metadata": {
        "colab": {
          "base_uri": "https://localhost:8080/",
          "height": 505
        },
        "id": "EYevSryTrJc6",
        "outputId": "0572810f-9de8-4a8d-f11f-8d9550caf36e"
      },
      "execution_count": 5,
      "outputs": [
        {
          "output_type": "display_data",
          "data": {
            "text/plain": [
              "<Figure size 400x400 with 0 Axes>"
            ]
          },
          "metadata": {}
        },
        {
          "output_type": "display_data",
          "data": {
            "text/plain": [
              "<Figure size 640x480 with 16 Axes>"
            ],
            "image/png": "[encoded data removed]"
          },
          "metadata": {}
        }
      ]
    },
    {
      "cell_type": "code",
      "source": [],
      "metadata": {
        "id": "DYO7gxxCrlpw"
      },
      "execution_count": null,
      "outputs": []
    }
  ]
}