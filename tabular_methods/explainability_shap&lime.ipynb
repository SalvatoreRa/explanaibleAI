{
 "cells": [
  {
   "cell_type": "code",
   "execution_count": null,
   "id": "eaeda853-0ac0-47f9-a0f4-77fd1afc725b",
   "metadata": {
    "tags": []
   },
   "outputs": [],
   "source": [
    "import pandas as pd\n",
    "import numpy as np\n",
    "import matplotlib.pyplot as plt"
   ]
  },
  {
   "cell_type": "markdown",
   "id": "9b83ec0b-e8b9-48f8-bf48-9d02da113b5f",
   "metadata": {},
   "source": [
    "# Data load and preprocessing "
   ]
  },
  {
   "cell_type": "markdown",
   "id": "0160ee1a-aa22-467d-a27a-67cf6b9bf4d2",
   "metadata": {},
   "source": [
    "## Expression data"
   ]
  },
  {
   "cell_type": "code",
   "execution_count": null,
   "id": "38c86c80-dec9-442c-b617-1d2f4f150eb3",
   "metadata": {
    "tags": []
   },
   "outputs": [],
   "source": [
    "df = pd.read_table(\"~/Downloads/GLORY_20170922.genes_all_samples_TPM.txt\", sep=\"\\t\", index_col=0)\n",
    "df"
   ]
  },
  {
   "cell_type": "code",
   "execution_count": null,
   "id": "e887a506-ed5e-493b-bd0c-a0646443bc08",
   "metadata": {
    "tags": []
   },
   "outputs": [],
   "source": [
    "df.index = df['hugo_id']\n",
    "df = df.drop(['hugo_id'], axis=1)\n",
    "df = df.T\n",
    "df.head()"
   ]
  },
  {
   "cell_type": "code",
   "execution_count": null,
   "id": "644366fd-5c54-4218-b679-3596f08b42ce",
   "metadata": {
    "tags": []
   },
   "outputs": [],
   "source": [
    "df.info()"
   ]
  },
  {
   "cell_type": "code",
   "execution_count": null,
   "id": "ea1eb921-93e1-4e7b-b614-aebfee4c7704",
   "metadata": {},
   "outputs": [],
   "source": [
    "duplicate_columns = df.columns[df.columns.duplicated()]\n",
    "duplicate_columns"
   ]
  },
  {
   "cell_type": "code",
   "execution_count": null,
   "id": "bb2a0635-2bad-499e-801a-3ee98758d546",
   "metadata": {},
   "outputs": [],
   "source": [
    "df = df.drop(columns=duplicate_columns)\n",
    "df.head()"
   ]
  },
  {
   "cell_type": "markdown",
   "id": "e3d45e11-4466-4a5a-9a5f-afe1341a74eb",
   "metadata": {},
   "source": [
    "## label data "
   ]
  },
  {
   "cell_type": "code",
   "execution_count": null,
   "id": "7c1f82c8-7c60-4598-aa04-11dac13b8fc4",
   "metadata": {
    "tags": []
   },
   "outputs": [],
   "source": [
    "samples = pd.read_excel('~/Downloads/GBM_GLORY_sample_info.xlsx', index_col=0)\n",
    "samples.head()"
   ]
  },
  {
   "cell_type": "code",
   "execution_count": null,
   "id": "4b0ad33f-55a6-43bf-b993-4324307bac73",
   "metadata": {
    "tags": []
   },
   "outputs": [],
   "source": [
    "Outcome = pd.DataFrame(samples['IDH1_STATUS-sequencing'])\n",
    "Outcome.head()"
   ]
  },
  {
   "cell_type": "code",
   "execution_count": null,
   "id": "b3a362d3-5c9b-4d3f-a7dc-f261f3845410",
   "metadata": {
    "tags": []
   },
   "outputs": [],
   "source": [
    "Outcome = Outcome.replace(\"MUT\",1)\n",
    "Outcome = Outcome.replace(\"WT\",0)\n",
    "Outcome.head()"
   ]
  },
  {
   "cell_type": "code",
   "execution_count": null,
   "id": "ad8340bf-d5bc-4bb5-b1e6-6989f9d389da",
   "metadata": {
    "tags": []
   },
   "outputs": [],
   "source": [
    "Outcome = Outcome[Outcome.index.isin(df.index)]\n",
    "Outcome.head()"
   ]
  },
  {
   "cell_type": "code",
   "execution_count": null,
   "id": "8fc015fd-f4a4-40de-a07a-3dc43e90570b",
   "metadata": {
    "tags": []
   },
   "outputs": [],
   "source": [
    "print('Labels counts in Outcome:', np.bincount(Outcome['IDH1_STATUS-sequencing']))"
   ]
  },
  {
   "cell_type": "markdown",
   "id": "43558526-cade-419c-b820-a8710e159fd7",
   "metadata": {},
   "source": [
    "here we clearly dealing with class imbalance.\n",
    "### Class imbalance correct using imblearn"
   ]
  },
  {
   "cell_type": "code",
   "execution_count": null,
   "id": "fdd72085-a152-4177-9134-14ca434b46fe",
   "metadata": {
    "tags": []
   },
   "outputs": [],
   "source": [
    "#!pip install -U imbalanced-learn"
   ]
  },
  {
   "cell_type": "code",
   "execution_count": null,
   "id": "7d9fcde5-6025-4ae3-9c0f-ceff23845088",
   "metadata": {
    "tags": []
   },
   "outputs": [],
   "source": [
    "from imblearn.over_sampling import RandomOverSampler\n",
    "ros = RandomOverSampler(random_state=0)\n",
    "df_resampled, Outcome_resampled = ros.fit_resample(df, Outcome['IDH1_STATUS-sequencing'])"
   ]
  },
  {
   "cell_type": "code",
   "execution_count": null,
   "id": "323295d5-b11f-48db-a731-ea5aafa928a7",
   "metadata": {
    "tags": []
   },
   "outputs": [],
   "source": [
    "from collections import Counter\n",
    "print(sorted(Counter(Outcome_resampled).items()))"
   ]
  },
  {
   "cell_type": "code",
   "execution_count": null,
   "id": "6371180a-b445-4190-974a-ef9c6a6e055f",
   "metadata": {
    "tags": []
   },
   "outputs": [],
   "source": [
    "print('Labels counts in Outcome:', np.bincount(Outcome_resampled))"
   ]
  },
  {
   "cell_type": "markdown",
   "id": "eeb54f88-9c00-4ba3-985d-9528322a5eac",
   "metadata": {},
   "source": [
    "# Explainability"
   ]
  },
  {
   "cell_type": "markdown",
   "id": "4c922db3-2e8e-478c-acc4-f9134ed5ed7a",
   "metadata": {},
   "source": [
    "## Lime"
   ]
  },
  {
   "cell_type": "code",
   "execution_count": null,
   "id": "8fd9878e-9798-45cc-ae27-46b35eda64f4",
   "metadata": {
    "tags": []
   },
   "outputs": [],
   "source": [
    "#!pip install lime\n",
    "import lime "
   ]
  },
  {
   "cell_type": "code",
   "execution_count": null,
   "id": "29211500-8eea-46b5-bf4e-91459cf02900",
   "metadata": {
    "tags": []
   },
   "outputs": [],
   "source": [
    "X_train, X_test, y_train, y_test = train_test_split(df_resampled, Outcome_resampled, test_size=0.3, random_state=42)\n",
    "\n",
    "model = xgb.XGBClassifier(objective ='binary:logistic', colsample_bytree = 0.3, learning_rate = 0.1,\n",
    "                max_depth = 5, alpha = 10, n_estimators = 10)\n",
    "model.fit(X_train, y_train)\n",
    "pred= model.predict(X_test)"
   ]
  },
  {
   "cell_type": "code",
   "execution_count": null,
   "id": "d0d650ed-c72f-46ff-9c17-49f4f5b76130",
   "metadata": {
    "tags": []
   },
   "outputs": [],
   "source": [
    "y_pred = pd.DataFrame(model.predict(X_test), columns=['pred'], index=X_test.index)\n",
    "y_pred.head()"
   ]
  },
  {
   "cell_type": "code",
   "execution_count": null,
   "id": "e709771b-4089-4298-ac15-2a04f6c09af7",
   "metadata": {
    "tags": []
   },
   "outputs": [],
   "source": [
    "explainer = lime_tabular.LimeTabularExplainer(\n",
    "    training_data=np.array(X_train),\n",
    "    feature_names=X_train.columns,\n",
    "    class_names= ['WT', 'MUT'],\n",
    "    mode='classification'\n",
    ")"
   ]
  },
  {
   "cell_type": "code",
   "execution_count": null,
   "id": "5e233e49-3750-4d24-b1f9-825181bb9e8d",
   "metadata": {
    "tags": []
   },
   "outputs": [],
   "source": [
    "random.seed(10)\n",
    "# Choose the instance and use it to predict the results. Here I use the 30th (below the 334 patient). \n",
    "exp = explainer.explain_instance(\n",
    "    data_row=X_test.iloc[8], \n",
    "    #num_features: maximum number of features present in explanation. I keept default 10.\n",
    "    #num_samples: size of the neighborhood to learn the linear model.Default 500.\n",
    "    predict_fn=model.predict_proba\n",
    ")\n",
    "exp.show_in_notebook(show_table=True)"
   ]
  },
  {
   "cell_type": "code",
   "execution_count": null,
   "id": "22fc05d2-f2c3-4390-a5ca-a6159b2b6ea0",
   "metadata": {
    "tags": []
   },
   "outputs": [],
   "source": [
    "# Show the results as list.\n",
    "exp.as_list()"
   ]
  },
  {
   "cell_type": "code",
   "execution_count": null,
   "id": "e4ee1c68-02d7-433c-938e-b17cb1bb1df9",
   "metadata": {
    "tags": []
   },
   "outputs": [],
   "source": [
    "%matplotlib inline\n",
    "fig = exp.as_pyplot_figure()"
   ]
  },
  {
   "cell_type": "code",
   "execution_count": null,
   "id": "b87f4929-95d4-4b1c-a3f1-0c8a009c5f29",
   "metadata": {
    "tags": []
   },
   "outputs": [],
   "source": [
    "from lime import submodular_pick"
   ]
  },
  {
   "cell_type": "code",
   "execution_count": null,
   "id": "499150e3-5e1a-407f-9027-1f5028d7485e",
   "metadata": {
    "tags": []
   },
   "outputs": [],
   "source": [
    "# Let's use SP-LIME to return explanations on a few sample data sets \n",
    "# and obtain a non-redundant global decision perspective of the black-box model\n",
    "sp_exp = submodular_pick.SubmodularPick(explainer, \n",
    "                                        np.array(X_test),\n",
    "                                        model.predict_proba,\n",
    "                                        num_features=10,\n",
    "                                        num_exps_desired=2)   "
   ]
  },
  {
   "cell_type": "code",
   "execution_count": null,
   "id": "c8f037c1-503e-447a-a68c-bb902cd80fd5",
   "metadata": {
    "tags": []
   },
   "outputs": [],
   "source": [
    "[exp.as_pyplot_figure(label=exp.available_labels()[0]) for exp in sp_exp.sp_explanations]\n",
    "print('SP-LIME Local Explanations')"
   ]
  },
  {
   "cell_type": "markdown",
   "id": "61d6390c-a8ad-43be-a76b-d6240284e1ef",
   "metadata": {},
   "source": [
    "## Shap"
   ]
  },
  {
   "cell_type": "code",
   "execution_count": null,
   "id": "dcda1ea4-3283-4b36-bde9-43b0e9976a9f",
   "metadata": {
    "tags": []
   },
   "outputs": [],
   "source": [
    "#!pip install shap\n",
    "import shap"
   ]
  },
  {
   "cell_type": "code",
   "execution_count": null,
   "id": "9ecc231c-d147-4332-8b1d-fa4b10274da5",
   "metadata": {
    "tags": []
   },
   "outputs": [],
   "source": [
    "explainer=shap.Explainer(model)\n",
    "shap_values = explainer(X_train)\n",
    "shap_contrib = explainer.shap_values(X_test)"
   ]
  },
  {
   "cell_type": "code",
   "execution_count": null,
   "id": "c46e50b7-3289-4984-85c2-91de7f30d3bb",
   "metadata": {
    "tags": []
   },
   "outputs": [],
   "source": [
    "#import Javascript\n",
    "\n",
    "#shap_values\n",
    "shap.initjs(),\n",
    "shap.plots.force(shap_values)"
   ]
  },
  {
   "cell_type": "code",
   "execution_count": null,
   "id": "4775a259-0697-48fa-ad0b-07d029c751d1",
   "metadata": {
    "tags": []
   },
   "outputs": [],
   "source": [
    "#shap.plots.waterfall(shap_values[0])"
   ]
  },
  {
   "cell_type": "code",
   "execution_count": null,
   "id": "f582122c-2c6e-4708-953c-312398310e54",
   "metadata": {
    "tags": []
   },
   "outputs": [],
   "source": [
    "# Global bar plot\n",
    "shap.plots.bar(shap_values, max_display=8)"
   ]
  },
  {
   "cell_type": "code",
   "execution_count": null,
   "id": "67115a12-4410-45cc-96fd-4a8e5a7972b1",
   "metadata": {
    "tags": []
   },
   "outputs": [],
   "source": [
    "# Local bar plot for the patient 334 (index 8).\n",
    "shap.plots.bar(shap_values[8], max_display=8)"
   ]
  },
  {
   "cell_type": "code",
   "execution_count": null,
   "id": "940998ca-17b9-46b7-9767-2541b950882d",
   "metadata": {
    "tags": []
   },
   "outputs": [],
   "source": [
    "shap.plots.beeswarm(shap_values, max_display=8)"
   ]
  },
  {
   "cell_type": "markdown",
   "id": "afba713f-c981-4638-a025-d389b19113f3",
   "metadata": {},
   "source": [
    "# Explainability Tools"
   ]
  },
  {
   "cell_type": "markdown",
   "id": "c2b64d85-898f-44a9-b788-8170c57f2db6",
   "metadata": {},
   "source": [
    "## Shapash"
   ]
  },
  {
   "cell_type": "code",
   "execution_count": null,
   "id": "9ea2f810-c6e8-4340-bdce-707e79baaedb",
   "metadata": {},
   "outputs": [],
   "source": [
    "response_dict = {0: 'WT', 1:'MUT'}"
   ]
  },
  {
   "cell_type": "code",
   "execution_count": null,
   "id": "1d74f5e3-c517-4f02-8854-6bff8273f018",
   "metadata": {
    "tags": []
   },
   "outputs": [],
   "source": [
    "#!pip install shapash"
   ]
  },
  {
   "cell_type": "code",
   "execution_count": null,
   "id": "732ae27f-6222-4dd0-b87c-a4ceaafcc743",
   "metadata": {},
   "outputs": [],
   "source": [
    "\n",
    "#\n",
    "from shapash import SmartExplainer\n",
    "import tkinter as TK\n",
    "\n",
    "\n",
    "xpl = SmartExplainer(\n",
    "    model=model,\n",
    "    #backend='shap' is the default.\n",
    "    label_dict=response_dict  #Dictionary mapping integer labels to domain names (classification - target values).\n",
    "    #preprocessing=encoder,   # Optional: compile step can use inverse_transform method\n",
    "    #features_dict=name # optional parameter, specifies label for features name \n",
    ")\n",
    "\n",
    "xpl.compile(\n",
    "   contributions=shap_contrib, # Shap Contributions pd.DataFrame\n",
    "    y_pred=y_pred,  #Prediction values (1 column only)\n",
    "    x=X_test,  # a preprocessed dataset: Shapash can apply the model to it\n",
    "    y_target=y_test #Target values (1 column only). \n",
    ")\n"
   ]
  },
  {
   "cell_type": "code",
   "execution_count": null,
   "id": "864e9274-034a-408c-9442-0caeb36c1e70",
   "metadata": {},
   "outputs": [],
   "source": [
    "xpl.plot.features_importance(max_features=10, label=1)\n",
    "xpl.plot.scatter_plot_prediction()\n",
    "#y_pred\n",
    "xpl.filter(max_contrib=10)\n",
    "xpl.plot.local_plot(index=334, label='MUT')\n",
    "xpl.plot.compare_plot(row_num=[0, 1, 2, 3, 4, 5, 6], max_features=8)\n"
   ]
  },
  {
   "cell_type": "code",
   "execution_count": null,
   "id": "ddcf2db7-7add-40b2-9f10-7b4936c09c31",
   "metadata": {},
   "outputs": [],
   "source": [
    "#Start WebApp\n",
    "app = xpl.run_app(port=8850, title_story='Explanation')\n",
    "# Kill the wepapp\n",
    "app.kill()"
   ]
  },
  {
   "cell_type": "markdown",
   "id": "6a249103-764d-40cd-92f2-bab2ae82ebf8",
   "metadata": {},
   "source": [
    "## Explainerdashboard"
   ]
  },
  {
   "cell_type": "code",
   "execution_count": null,
   "id": "60b15746-ded4-480c-bccf-9c4056a205b1",
   "metadata": {
    "tags": []
   },
   "outputs": [],
   "source": [
    "#!pip install explainerdashboard"
   ]
  },
  {
   "cell_type": "code",
   "execution_count": null,
   "id": "10bf6fac-02ac-449c-85c8-375833c8f969",
   "metadata": {
    "tags": []
   },
   "outputs": [],
   "source": [
    "from IPython.core.interactiveshell import InteractiveShell\n",
    "InteractiveShell.ast_node_interactivity = \"all\"\n",
    "from explainerdashboard import ClassifierExplainer, ExplainerDashboard"
   ]
  },
  {
   "cell_type": "code",
   "execution_count": null,
   "id": "7af8e6d3-0450-4e76-9bd6-a39904e478ab",
   "metadata": {
    "tags": []
   },
   "outputs": [],
   "source": [
    "patient_idx=X_test.index\n",
    "patient_idx"
   ]
  },
  {
   "cell_type": "code",
   "execution_count": null,
   "id": "e9d4003f-e3cc-4dcc-8893-60cf28f83d86",
   "metadata": {
    "tags": []
   },
   "outputs": [],
   "source": [
    "explainerdb = ClassifierExplainer(model, X_test, y_test, \n",
    "                                    X_background=X_train, \n",
    "                                    model_output='y_pred',\n",
    "                                    idxs=patient_idx,\n",
    "                                    labels=['WT', 'MUT'])"
   ]
  },
  {
   "cell_type": "code",
   "execution_count": null,
   "id": "701b2713-348f-4096-9229-8e94ede3c3c8",
   "metadata": {
    "tags": []
   },
   "outputs": [],
   "source": [
    "db = ExplainerDashboard(explainerdb)"
   ]
  },
  {
   "cell_type": "code",
   "execution_count": null,
   "id": "1899fdf6-f5d7-4ef1-b653-ba2051ed2c78",
   "metadata": {
    "tags": []
   },
   "outputs": [],
   "source": [
    "#Run the dashboard webApp\n",
    "db.run(port=8050, mode='external')"
   ]
  },
  {
   "cell_type": "code",
   "execution_count": null,
   "id": "32621d5b-95f9-4b34-9252-425c00a534e2",
   "metadata": {},
   "outputs": [],
   "source": [
    "db.terminate(8050)"
   ]
  },
  {
   "cell_type": "code",
   "execution_count": null,
   "id": "843467fb-b36b-408a-a331-5e7fa5354997",
   "metadata": {},
   "outputs": [],
   "source": []
  },
  {
   "cell_type": "code",
   "execution_count": null,
   "id": "16fe5019-2ffa-4672-9923-68cff40b5286",
   "metadata": {},
   "outputs": [],
   "source": []
  }
 ],
 "metadata": {
  "kernelspec": {
   "display_name": "Python 3 (ipykernel)",
   "language": "python",
   "name": "python3"
  },
  "language_info": {
   "codemirror_mode": {
    "name": "ipython",
    "version": 3
   },
   "file_extension": ".py",
   "mimetype": "text/x-python",
   "name": "python",
   "nbconvert_exporter": "python",
   "pygments_lexer": "ipython3",
   "version": "3.11.5"
  }
 },
 "nbformat": 4,
 "nbformat_minor": 5
}
