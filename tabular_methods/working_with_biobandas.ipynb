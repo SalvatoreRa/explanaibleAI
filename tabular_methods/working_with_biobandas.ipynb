{
  "nbformat": 4,
  "nbformat_minor": 0,
  "metadata": {
    "colab": {
      "provenance": []
    },
    "kernelspec": {
      "name": "python3",
      "display_name": "Python 3"
    },
    "language_info": {
      "name": "python"
    }
  },
  "cells": [
    {
      "cell_type": "markdown",
      "source": [
        "# BioPandas\n",
        "\n",
        "BioPandas is a Python library to visualize and work with biological molecules as it was in a Pandas dataframe. Working with PDB file (or othe biological formats) can be cumbersome and this package make it easier.\n",
        "\n",
        "[original project](https://biopandas.github.io/biopandas/)"
      ],
      "metadata": {
        "id": "yDlIp5v4PjY2"
      }
    },
    {
      "cell_type": "code",
      "source": [
        "!pip install biopandas"
      ],
      "metadata": {
        "colab": {
          "base_uri": "https://localhost:8080/"
        },
        "id": "if8ImCmYXI7M",
        "outputId": "5952ada7-b18b-4547-8581-5d52d06a5418"
      },
      "execution_count": 1,
      "outputs": [
        {
          "output_type": "stream",
          "name": "stdout",
          "text": [
            "Collecting biopandas\n",
            "  Downloading biopandas-0.5.1-py3-none-any.whl.metadata (1.6 kB)\n",
            "Requirement already satisfied: numpy>=1.16.2 in /usr/local/lib/python3.10/dist-packages (from biopandas) (1.26.4)\n",
            "Requirement already satisfied: pandas>=0.24.2 in /usr/local/lib/python3.10/dist-packages (from biopandas) (2.1.4)\n",
            "Collecting mmtf-python==1.1.3 (from biopandas)\n",
            "  Downloading mmtf_python-1.1.3-py2.py3-none-any.whl.metadata (1.2 kB)\n",
            "Collecting looseversion==1.1.2 (from biopandas)\n",
            "  Downloading looseversion-1.1.2-py3-none-any.whl.metadata (4.6 kB)\n",
            "Requirement already satisfied: setuptools in /usr/local/lib/python3.10/dist-packages (from biopandas) (71.0.4)\n",
            "Requirement already satisfied: msgpack>=1.0.0 in /usr/local/lib/python3.10/dist-packages (from mmtf-python==1.1.3->biopandas) (1.0.8)\n",
            "Requirement already satisfied: python-dateutil>=2.8.2 in /usr/local/lib/python3.10/dist-packages (from pandas>=0.24.2->biopandas) (2.8.2)\n",
            "Requirement already satisfied: pytz>=2020.1 in /usr/local/lib/python3.10/dist-packages (from pandas>=0.24.2->biopandas) (2024.1)\n",
            "Requirement already satisfied: tzdata>=2022.1 in /usr/local/lib/python3.10/dist-packages (from pandas>=0.24.2->biopandas) (2024.1)\n",
            "Requirement already satisfied: six>=1.5 in /usr/local/lib/python3.10/dist-packages (from python-dateutil>=2.8.2->pandas>=0.24.2->biopandas) (1.16.0)\n",
            "Downloading biopandas-0.5.1-py3-none-any.whl (68 kB)\n",
            "\u001b[2K   \u001b[90m━━━━━━━━━━━━━━━━━━━━━━━━━━━━━━━━━━━━━━━━\u001b[0m \u001b[32m68.3/68.3 kB\u001b[0m \u001b[31m1.6 MB/s\u001b[0m eta \u001b[36m0:00:00\u001b[0m\n",
            "\u001b[?25hDownloading looseversion-1.1.2-py3-none-any.whl (8.1 kB)\n",
            "Downloading mmtf_python-1.1.3-py2.py3-none-any.whl (25 kB)\n",
            "Installing collected packages: mmtf-python, looseversion, biopandas\n",
            "Successfully installed biopandas-0.5.1 looseversion-1.1.2 mmtf-python-1.1.3\n"
          ]
        }
      ]
    },
    {
      "cell_type": "markdown",
      "source": [
        "## Simple example"
      ],
      "metadata": {
        "id": "DQU6JdTUXOPA"
      }
    },
    {
      "cell_type": "code",
      "source": [
        "# Initialize a new PandasPdb object\n",
        "# and fetch the PDB file from rcsb.org\n",
        "from biopandas.pdb import PandasPdb\n",
        "ppdb = PandasPdb().fetch_pdb('3eiy')\n",
        "ppdb.df['ATOM'].head()"
      ],
      "metadata": {
        "id": "PdTf2E7GN6bg",
        "colab": {
          "base_uri": "https://localhost:8080/",
          "height": 256
        },
        "outputId": "faf04a7d-abd5-449a-f4d3-ab1013df8b1a"
      },
      "execution_count": 3,
      "outputs": [
        {
          "output_type": "execute_result",
          "data": {
            "text/plain": [
              "  record_name  atom_number blank_1 atom_name alt_loc residue_name blank_2  \\\n",
              "0        ATOM            1                 N                  SER           \n",
              "1        ATOM            2                CA                  SER           \n",
              "2        ATOM            3                 C                  SER           \n",
              "3        ATOM            4                 O                  SER           \n",
              "4        ATOM            5                CB                  SER           \n",
              "\n",
              "  chain_id  residue_number insertion  ... x_coord  y_coord  z_coord  \\\n",
              "0        A               2            ...   2.527   54.656   -1.667   \n",
              "1        A               2            ...   3.259   54.783   -0.368   \n",
              "2        A               2            ...   4.127   53.553   -0.105   \n",
              "3        A               2            ...   5.274   53.451   -0.594   \n",
              "4        A               2            ...   2.273   54.944    0.792   \n",
              "\n",
              "   occupancy  b_factor  blank_4 segment_id element_symbol charge  line_idx  \n",
              "0        1.0     52.73                                  N    NaN       611  \n",
              "1        1.0     52.54                                  C    NaN       612  \n",
              "2        1.0     52.03                                  C    NaN       613  \n",
              "3        1.0     52.45                                  O    NaN       614  \n",
              "4        1.0     52.69                                  C    NaN       615  \n",
              "\n",
              "[5 rows x 21 columns]"
            ],
            "text/html": [
              "\n",
              "  <div id=\"df-6c2fb356-6949-4615-93b2-201d8dc1ca5a\" class=\"colab-df-container\">\n",
              "    <div>\n",
              "<style scoped>\n",
              "    .dataframe tbody tr th:only-of-type {\n",
              "        vertical-align: middle;\n",
              "    }\n",
              "\n",
              "    .dataframe tbody tr th {\n",
              "        vertical-align: top;\n",
              "    }\n",
              "\n",
              "    .dataframe thead th {\n",
              "        text-align: right;\n",
              "    }\n",
              "</style>\n",
              "<table border=\"1\" class=\"dataframe\">\n",
              "  <thead>\n",
              "    <tr style=\"text-align: right;\">\n",
              "      <th></th>\n",
              "      <th>record_name</th>\n",
              "      <th>atom_number</th>\n",
              "      <th>blank_1</th>\n",
              "      <th>atom_name</th>\n",
              "      <th>alt_loc</th>\n",
              "      <th>residue_name</th>\n",
              "      <th>blank_2</th>\n",
              "      <th>chain_id</th>\n",
              "      <th>residue_number</th>\n",
              "      <th>insertion</th>\n",
              "      <th>...</th>\n",
              "      <th>x_coord</th>\n",
              "      <th>y_coord</th>\n",
              "      <th>z_coord</th>\n",
              "      <th>occupancy</th>\n",
              "      <th>b_factor</th>\n",
              "      <th>blank_4</th>\n",
              "      <th>segment_id</th>\n",
              "      <th>element_symbol</th>\n",
              "      <th>charge</th>\n",
              "      <th>line_idx</th>\n",
              "    </tr>\n",
              "  </thead>\n",
              "  <tbody>\n",
              "    <tr>\n",
              "      <th>0</th>\n",
              "      <td>ATOM</td>\n",
              "      <td>1</td>\n",
              "      <td></td>\n",
              "      <td>N</td>\n",
              "      <td></td>\n",
              "      <td>SER</td>\n",
              "      <td></td>\n",
              "      <td>A</td>\n",
              "      <td>2</td>\n",
              "      <td></td>\n",
              "      <td>...</td>\n",
              "      <td>2.527</td>\n",
              "      <td>54.656</td>\n",
              "      <td>-1.667</td>\n",
              "      <td>1.0</td>\n",
              "      <td>52.73</td>\n",
              "      <td></td>\n",
              "      <td></td>\n",
              "      <td>N</td>\n",
              "      <td>NaN</td>\n",
              "      <td>611</td>\n",
              "    </tr>\n",
              "    <tr>\n",
              "      <th>1</th>\n",
              "      <td>ATOM</td>\n",
              "      <td>2</td>\n",
              "      <td></td>\n",
              "      <td>CA</td>\n",
              "      <td></td>\n",
              "      <td>SER</td>\n",
              "      <td></td>\n",
              "      <td>A</td>\n",
              "      <td>2</td>\n",
              "      <td></td>\n",
              "      <td>...</td>\n",
              "      <td>3.259</td>\n",
              "      <td>54.783</td>\n",
              "      <td>-0.368</td>\n",
              "      <td>1.0</td>\n",
              "      <td>52.54</td>\n",
              "      <td></td>\n",
              "      <td></td>\n",
              "      <td>C</td>\n",
              "      <td>NaN</td>\n",
              "      <td>612</td>\n",
              "    </tr>\n",
              "    <tr>\n",
              "      <th>2</th>\n",
              "      <td>ATOM</td>\n",
              "      <td>3</td>\n",
              "      <td></td>\n",
              "      <td>C</td>\n",
              "      <td></td>\n",
              "      <td>SER</td>\n",
              "      <td></td>\n",
              "      <td>A</td>\n",
              "      <td>2</td>\n",
              "      <td></td>\n",
              "      <td>...</td>\n",
              "      <td>4.127</td>\n",
              "      <td>53.553</td>\n",
              "      <td>-0.105</td>\n",
              "      <td>1.0</td>\n",
              "      <td>52.03</td>\n",
              "      <td></td>\n",
              "      <td></td>\n",
              "      <td>C</td>\n",
              "      <td>NaN</td>\n",
              "      <td>613</td>\n",
              "    </tr>\n",
              "    <tr>\n",
              "      <th>3</th>\n",
              "      <td>ATOM</td>\n",
              "      <td>4</td>\n",
              "      <td></td>\n",
              "      <td>O</td>\n",
              "      <td></td>\n",
              "      <td>SER</td>\n",
              "      <td></td>\n",
              "      <td>A</td>\n",
              "      <td>2</td>\n",
              "      <td></td>\n",
              "      <td>...</td>\n",
              "      <td>5.274</td>\n",
              "      <td>53.451</td>\n",
              "      <td>-0.594</td>\n",
              "      <td>1.0</td>\n",
              "      <td>52.45</td>\n",
              "      <td></td>\n",
              "      <td></td>\n",
              "      <td>O</td>\n",
              "      <td>NaN</td>\n",
              "      <td>614</td>\n",
              "    </tr>\n",
              "    <tr>\n",
              "      <th>4</th>\n",
              "      <td>ATOM</td>\n",
              "      <td>5</td>\n",
              "      <td></td>\n",
              "      <td>CB</td>\n",
              "      <td></td>\n",
              "      <td>SER</td>\n",
              "      <td></td>\n",
              "      <td>A</td>\n",
              "      <td>2</td>\n",
              "      <td></td>\n",
              "      <td>...</td>\n",
              "      <td>2.273</td>\n",
              "      <td>54.944</td>\n",
              "      <td>0.792</td>\n",
              "      <td>1.0</td>\n",
              "      <td>52.69</td>\n",
              "      <td></td>\n",
              "      <td></td>\n",
              "      <td>C</td>\n",
              "      <td>NaN</td>\n",
              "      <td>615</td>\n",
              "    </tr>\n",
              "  </tbody>\n",
              "</table>\n",
              "<p>5 rows × 21 columns</p>\n",
              "</div>\n",
              "    <div class=\"colab-df-buttons\">\n",
              "\n",
              "  <div class=\"colab-df-container\">\n",
              "    <button class=\"colab-df-convert\" onclick=\"convertToInteractive('df-6c2fb356-6949-4615-93b2-201d8dc1ca5a')\"\n",
              "            title=\"Convert this dataframe to an interactive table.\"\n",
              "            style=\"display:none;\">\n",
              "\n",
              "  <svg xmlns=\"http://www.w3.org/2000/svg\" height=\"24px\" viewBox=\"0 -960 960 960\">\n",
              "    <path d=\"M120-120v-720h720v720H120Zm60-500h600v-160H180v160Zm220 220h160v-160H400v160Zm0 220h160v-160H400v160ZM180-400h160v-160H180v160Zm440 0h160v-160H620v160ZM180-180h160v-160H180v160Zm440 0h160v-160H620v160Z\"/>\n",
              "  </svg>\n",
              "    </button>\n",
              "\n",
              "  <style>\n",
              "    .colab-df-container {\n",
              "      display:flex;\n",
              "      gap: 12px;\n",
              "    }\n",
              "\n",
              "    .colab-df-convert {\n",
              "      background-color: #E8F0FE;\n",
              "      border: none;\n",
              "      border-radius: 50%;\n",
              "      cursor: pointer;\n",
              "      display: none;\n",
              "      fill: #1967D2;\n",
              "      height: 32px;\n",
              "      padding: 0 0 0 0;\n",
              "      width: 32px;\n",
              "    }\n",
              "\n",
              "    .colab-df-convert:hover {\n",
              "      background-color: #E2EBFA;\n",
              "      box-shadow: 0px 1px 2px rgba(60, 64, 67, 0.3), 0px 1px 3px 1px rgba(60, 64, 67, 0.15);\n",
              "      fill: #174EA6;\n",
              "    }\n",
              "\n",
              "    .colab-df-buttons div {\n",
              "      margin-bottom: 4px;\n",
              "    }\n",
              "\n",
              "    [theme=dark] .colab-df-convert {\n",
              "      background-color: #3B4455;\n",
              "      fill: #D2E3FC;\n",
              "    }\n",
              "\n",
              "    [theme=dark] .colab-df-convert:hover {\n",
              "      background-color: #434B5C;\n",
              "      box-shadow: 0px 1px 3px 1px rgba(0, 0, 0, 0.15);\n",
              "      filter: drop-shadow(0px 1px 2px rgba(0, 0, 0, 0.3));\n",
              "      fill: #FFFFFF;\n",
              "    }\n",
              "  </style>\n",
              "\n",
              "    <script>\n",
              "      const buttonEl =\n",
              "        document.querySelector('#df-6c2fb356-6949-4615-93b2-201d8dc1ca5a button.colab-df-convert');\n",
              "      buttonEl.style.display =\n",
              "        google.colab.kernel.accessAllowed ? 'block' : 'none';\n",
              "\n",
              "      async function convertToInteractive(key) {\n",
              "        const element = document.querySelector('#df-6c2fb356-6949-4615-93b2-201d8dc1ca5a');\n",
              "        const dataTable =\n",
              "          await google.colab.kernel.invokeFunction('convertToInteractive',\n",
              "                                                    [key], {});\n",
              "        if (!dataTable) return;\n",
              "\n",
              "        const docLinkHtml = 'Like what you see? Visit the ' +\n",
              "          '<a target=\"_blank\" href=https://colab.research.google.com/notebooks/data_table.ipynb>data table notebook</a>'\n",
              "          + ' to learn more about interactive tables.';\n",
              "        element.innerHTML = '';\n",
              "        dataTable['output_type'] = 'display_data';\n",
              "        await google.colab.output.renderOutput(dataTable, element);\n",
              "        const docLink = document.createElement('div');\n",
              "        docLink.innerHTML = docLinkHtml;\n",
              "        element.appendChild(docLink);\n",
              "      }\n",
              "    </script>\n",
              "  </div>\n",
              "\n",
              "\n",
              "<div id=\"df-085566c8-e127-45de-b2ba-1323951407cb\">\n",
              "  <button class=\"colab-df-quickchart\" onclick=\"quickchart('df-085566c8-e127-45de-b2ba-1323951407cb')\"\n",
              "            title=\"Suggest charts\"\n",
              "            style=\"display:none;\">\n",
              "\n",
              "<svg xmlns=\"http://www.w3.org/2000/svg\" height=\"24px\"viewBox=\"0 0 24 24\"\n",
              "     width=\"24px\">\n",
              "    <g>\n",
              "        <path d=\"M19 3H5c-1.1 0-2 .9-2 2v14c0 1.1.9 2 2 2h14c1.1 0 2-.9 2-2V5c0-1.1-.9-2-2-2zM9 17H7v-7h2v7zm4 0h-2V7h2v10zm4 0h-2v-4h2v4z\"/>\n",
              "    </g>\n",
              "</svg>\n",
              "  </button>\n",
              "\n",
              "<style>\n",
              "  .colab-df-quickchart {\n",
              "      --bg-color: #E8F0FE;\n",
              "      --fill-color: #1967D2;\n",
              "      --hover-bg-color: #E2EBFA;\n",
              "      --hover-fill-color: #174EA6;\n",
              "      --disabled-fill-color: #AAA;\n",
              "      --disabled-bg-color: #DDD;\n",
              "  }\n",
              "\n",
              "  [theme=dark] .colab-df-quickchart {\n",
              "      --bg-color: #3B4455;\n",
              "      --fill-color: #D2E3FC;\n",
              "      --hover-bg-color: #434B5C;\n",
              "      --hover-fill-color: #FFFFFF;\n",
              "      --disabled-bg-color: #3B4455;\n",
              "      --disabled-fill-color: #666;\n",
              "  }\n",
              "\n",
              "  .colab-df-quickchart {\n",
              "    background-color: var(--bg-color);\n",
              "    border: none;\n",
              "    border-radius: 50%;\n",
              "    cursor: pointer;\n",
              "    display: none;\n",
              "    fill: var(--fill-color);\n",
              "    height: 32px;\n",
              "    padding: 0;\n",
              "    width: 32px;\n",
              "  }\n",
              "\n",
              "  .colab-df-quickchart:hover {\n",
              "    background-color: var(--hover-bg-color);\n",
              "    box-shadow: 0 1px 2px rgba(60, 64, 67, 0.3), 0 1px 3px 1px rgba(60, 64, 67, 0.15);\n",
              "    fill: var(--button-hover-fill-color);\n",
              "  }\n",
              "\n",
              "  .colab-df-quickchart-complete:disabled,\n",
              "  .colab-df-quickchart-complete:disabled:hover {\n",
              "    background-color: var(--disabled-bg-color);\n",
              "    fill: var(--disabled-fill-color);\n",
              "    box-shadow: none;\n",
              "  }\n",
              "\n",
              "  .colab-df-spinner {\n",
              "    border: 2px solid var(--fill-color);\n",
              "    border-color: transparent;\n",
              "    border-bottom-color: var(--fill-color);\n",
              "    animation:\n",
              "      spin 1s steps(1) infinite;\n",
              "  }\n",
              "\n",
              "  @keyframes spin {\n",
              "    0% {\n",
              "      border-color: transparent;\n",
              "      border-bottom-color: var(--fill-color);\n",
              "      border-left-color: var(--fill-color);\n",
              "    }\n",
              "    20% {\n",
              "      border-color: transparent;\n",
              "      border-left-color: var(--fill-color);\n",
              "      border-top-color: var(--fill-color);\n",
              "    }\n",
              "    30% {\n",
              "      border-color: transparent;\n",
              "      border-left-color: var(--fill-color);\n",
              "      border-top-color: var(--fill-color);\n",
              "      border-right-color: var(--fill-color);\n",
              "    }\n",
              "    40% {\n",
              "      border-color: transparent;\n",
              "      border-right-color: var(--fill-color);\n",
              "      border-top-color: var(--fill-color);\n",
              "    }\n",
              "    60% {\n",
              "      border-color: transparent;\n",
              "      border-right-color: var(--fill-color);\n",
              "    }\n",
              "    80% {\n",
              "      border-color: transparent;\n",
              "      border-right-color: var(--fill-color);\n",
              "      border-bottom-color: var(--fill-color);\n",
              "    }\n",
              "    90% {\n",
              "      border-color: transparent;\n",
              "      border-bottom-color: var(--fill-color);\n",
              "    }\n",
              "  }\n",
              "</style>\n",
              "\n",
              "  <script>\n",
              "    async function quickchart(key) {\n",
              "      const quickchartButtonEl =\n",
              "        document.querySelector('#' + key + ' button');\n",
              "      quickchartButtonEl.disabled = true;  // To prevent multiple clicks.\n",
              "      quickchartButtonEl.classList.add('colab-df-spinner');\n",
              "      try {\n",
              "        const charts = await google.colab.kernel.invokeFunction(\n",
              "            'suggestCharts', [key], {});\n",
              "      } catch (error) {\n",
              "        console.error('Error during call to suggestCharts:', error);\n",
              "      }\n",
              "      quickchartButtonEl.classList.remove('colab-df-spinner');\n",
              "      quickchartButtonEl.classList.add('colab-df-quickchart-complete');\n",
              "    }\n",
              "    (() => {\n",
              "      let quickchartButtonEl =\n",
              "        document.querySelector('#df-085566c8-e127-45de-b2ba-1323951407cb button');\n",
              "      quickchartButtonEl.style.display =\n",
              "        google.colab.kernel.accessAllowed ? 'block' : 'none';\n",
              "    })();\n",
              "  </script>\n",
              "</div>\n",
              "\n",
              "    </div>\n",
              "  </div>\n"
            ],
            "application/vnd.google.colaboratory.intrinsic+json": {
              "type": "dataframe"
            }
          },
          "metadata": {},
          "execution_count": 3
        }
      ]
    },
    {
      "cell_type": "code",
      "source": [
        "ppdb.df['ATOM'].columns"
      ],
      "metadata": {
        "colab": {
          "base_uri": "https://localhost:8080/"
        },
        "id": "lRvgVjQMqNwx",
        "outputId": "bd19eed2-875b-4dfd-8e39-a889368e7148"
      },
      "execution_count": 6,
      "outputs": [
        {
          "output_type": "execute_result",
          "data": {
            "text/plain": [
              "Index(['record_name', 'atom_number', 'blank_1', 'atom_name', 'alt_loc',\n",
              "       'residue_name', 'blank_2', 'chain_id', 'residue_number', 'insertion',\n",
              "       'blank_3', 'x_coord', 'y_coord', 'z_coord', 'occupancy', 'b_factor',\n",
              "       'blank_4', 'segment_id', 'element_symbol', 'charge', 'line_idx'],\n",
              "      dtype='object')"
            ]
          },
          "metadata": {},
          "execution_count": 6
        }
      ]
    },
    {
      "cell_type": "code",
      "source": [
        "ppdb.df\n"
      ],
      "metadata": {
        "colab": {
          "base_uri": "https://localhost:8080/"
        },
        "id": "yGTMVFqZqVh4",
        "outputId": "f9014a9e-6df3-47e0-be08-ecbc4420772d"
      },
      "execution_count": 12,
      "outputs": [
        {
          "output_type": "execute_result",
          "data": {
            "text/plain": [
              "{'ATOM':      record_name  atom_number blank_1 atom_name alt_loc residue_name blank_2  \\\n",
              " 0           ATOM            1                 N                  SER           \n",
              " 1           ATOM            2                CA                  SER           \n",
              " 2           ATOM            3                 C                  SER           \n",
              " 3           ATOM            4                 O                  SER           \n",
              " 4           ATOM            5                CB                  SER           \n",
              " ...          ...          ...     ...       ...     ...          ...     ...   \n",
              " 1325        ATOM         1326                CG                  LYS           \n",
              " 1326        ATOM         1327                CD                  LYS           \n",
              " 1327        ATOM         1328                CE                  LYS           \n",
              " 1328        ATOM         1329                NZ                  LYS           \n",
              " 1329        ATOM         1330               OXT                  LYS           \n",
              " \n",
              "      chain_id  residue_number insertion  ... x_coord  y_coord  z_coord  \\\n",
              " 0           A               2            ...   2.527   54.656   -1.667   \n",
              " 1           A               2            ...   3.259   54.783   -0.368   \n",
              " 2           A               2            ...   4.127   53.553   -0.105   \n",
              " 3           A               2            ...   5.274   53.451   -0.594   \n",
              " 4           A               2            ...   2.273   54.944    0.792   \n",
              " ...       ...             ...       ...  ...     ...      ...      ...   \n",
              " 1325        A             175            ...   6.957   36.545  -11.369   \n",
              " 1326        A             175            ...   6.501   37.199  -12.700   \n",
              " 1327        A             175            ...   7.706   37.673  -13.531   \n",
              " 1328        A             175            ...   8.861   36.709  -13.496   \n",
              " 1329        A             175            ...  10.451   35.432  -10.086   \n",
              " \n",
              "       occupancy  b_factor  blank_4 segment_id element_symbol charge  line_idx  \n",
              " 0           1.0     52.73                                  N    NaN       611  \n",
              " 1           1.0     52.54                                  C    NaN       612  \n",
              " 2           1.0     52.03                                  C    NaN       613  \n",
              " 3           1.0     52.45                                  O    NaN       614  \n",
              " 4           1.0     52.69                                  C    NaN       615  \n",
              " ...         ...       ...      ...        ...            ...    ...       ...  \n",
              " 1325        1.0     57.59                                  C    NaN      1936  \n",
              " 1326        1.0     61.87                                  C    NaN      1937  \n",
              " 1327        1.0     63.51                                  C    NaN      1938  \n",
              " 1328        1.0     63.20                                  N    NaN      1939  \n",
              " 1329        1.0     55.71                                  O    NaN      1940  \n",
              " \n",
              " [1330 rows x 21 columns],\n",
              " 'HETATM':     record_name  atom_number blank_1 atom_name alt_loc residue_name blank_2  \\\n",
              " 0        HETATM         1332                 K                    K           \n",
              " 1        HETATM         1333                NA                   NA           \n",
              " 2        HETATM         1334                NA                   NA           \n",
              " 3        HETATM         1335                P1                  POP           \n",
              " 4        HETATM         1336                O1                  POP           \n",
              " ..          ...          ...     ...       ...     ...          ...     ...   \n",
              " 146      HETATM         1478                 O                  HOH           \n",
              " 147      HETATM         1479                 O                  HOH           \n",
              " 148      HETATM         1480                 O                  HOH           \n",
              " 149      HETATM         1481                 O                  HOH           \n",
              " 150      HETATM         1482                 O                  HOH           \n",
              " \n",
              "     chain_id  residue_number insertion  ... x_coord  y_coord  z_coord  \\\n",
              " 0          A             176            ...  24.990   43.276    0.005   \n",
              " 1          A             177            ...   1.633   34.181   11.897   \n",
              " 2          A             178            ...   6.489   35.143    8.444   \n",
              " 3          A             179            ...   1.233   37.542   11.212   \n",
              " 4          A             179            ...   1.910   38.831   11.612   \n",
              " ..       ...             ...       ...  ...     ...      ...      ...   \n",
              " 146        A             290            ...  24.327   46.350    8.439   \n",
              " 147        A             291            ...  17.766   26.234   14.240   \n",
              " 148        A             292            ...  14.667   53.897   27.017   \n",
              " 149        A             293            ...  13.540   30.919    2.872   \n",
              " 150        A             294            ...  13.812   54.578   29.178   \n",
              " \n",
              "      occupancy  b_factor  blank_4 segment_id element_symbol charge  line_idx  \n",
              " 0          0.5     24.45                                  K    NaN      1942  \n",
              " 1          1.0     26.73                                 NA    NaN      1943  \n",
              " 2          1.0     30.89                                 NA    NaN      1944  \n",
              " 3          1.0     32.68                                  P    NaN      1945  \n",
              " 4          1.0     32.62                                  O    NaN      1946  \n",
              " ..         ...       ...      ...        ...            ...    ...       ...  \n",
              " 146        1.0     39.23                                  O    NaN      2088  \n",
              " 147        1.0     58.80                                  O    NaN      2089  \n",
              " 148        1.0     44.45                                  O    NaN      2090  \n",
              " 149        1.0     48.68                                  O    NaN      2091  \n",
              " 150        1.0     37.62                                  O    NaN      2092  \n",
              " \n",
              " [151 rows x 21 columns],\n",
              " 'ANISOU': Empty DataFrame\n",
              " Columns: [record_name, atom_number, blank_1, atom_name, alt_loc, residue_name, blank_2, chain_id, residue_number, insertion, blank_3, U(1,1), U(2,2), U(3,3), U(1,2), U(1,3), U(2,3), blank_4, element_symbol, charge, line_idx]\n",
              " Index: []\n",
              " \n",
              " [0 rows x 21 columns],\n",
              " 'OTHERS':     record_name                                              entry  line_idx\n",
              " 0        HEADER      HYDROLASE                               17...         0\n",
              " 1         TITLE      CRYSTAL STRUCTURE OF INORGANIC PYROPHOSPHA...         1\n",
              " 2         TITLE            2 PSEUDOMALLEI WITH BOUND PYROPHOSPHATE         2\n",
              " 3        COMPND                                         MOL_ID: 1;         3\n",
              " 4        COMPND             2 MOLECULE: INORGANIC PYROPHOSPHATASE;         4\n",
              " ..          ...                                                ...       ...\n",
              " 663      CONECT                                          1435 1334      2144\n",
              " 664      CONECT                                          1445 1333      2145\n",
              " 665      CONECT                                          1451 1334      2146\n",
              " 666      MASTER        471    0    7    5    9    0   13    6 1...      2147\n",
              " 667         END                                                         2148\n",
              " \n",
              " [668 rows x 3 columns]}"
            ]
          },
          "metadata": {},
          "execution_count": 12
        }
      ]
    },
    {
      "cell_type": "code",
      "source": [
        "import pandas as pd\n",
        "import networkx as nx\n",
        "# Create a graph\n",
        "df = ppdb.df['ATOM']\n",
        "G = nx.Graph()\n",
        "\n",
        "# Add nodes with attributes\n",
        "for i, row in df.iterrows():\n",
        "    G.add_node(row['atom_number'],\n",
        "               pos=(row['x_coord'], row['y_coord'], row['z_coord']),\n",
        "               atom=row['element_symbol'])\n",
        "\n",
        "# Define bond criteria (simple example: based on spatial distance)\n",
        "# You would need a more sophisticated method depending on your case\n",
        "for i, row1 in df.iterrows():\n",
        "    for j, row2 in df.iterrows():\n",
        "        if i < j:\n",
        "            dist = ((row1['x_coord'] - row2['x_coord'])**2 +\n",
        "                    (row1['y_coord'] - row2['y_coord'])**2 +\n",
        "                    (row1['z_coord'] - row2['z_coord'])**2)**0.5\n",
        "            if dist < 1.6:  # Example threshold for a bond\n",
        "                G.add_edge(row1['atom_number'], row2['atom_number'])\n",
        "\n",
        "# Define colors based on atom type\n",
        "color_map = {\n",
        "    'N': 'blue',\n",
        "    'C': 'black',\n",
        "    'O': 'red',\n",
        "    'S': 'green'\n",
        "    # add more if needed\n",
        "}\n",
        "\n",
        "colors = [color_map[data['atom']] for _, data in G.nodes(data=True)]\n",
        "\n",
        "# Get positions (2D projection)\n",
        "pos = {node: (data['pos'][0], data['pos'][1]) for node, data in G.nodes(data=True)}\n",
        "\n",
        "# Draw the graph\n",
        "nx.draw(G, pos, node_color=colors, with_labels=True, node_size=500)\n",
        "plt.show()"
      ],
      "metadata": {
        "colab": {
          "base_uri": "https://localhost:8080/",
          "height": 332
        },
        "id": "huh23lARq6zw",
        "outputId": "6a553bb1-49d2-4fd3-d114-abdc009e92c1"
      },
      "execution_count": 9,
      "outputs": [
        {
          "output_type": "error",
          "ename": "KeyError",
          "evalue": "'S'",
          "traceback": [
            "\u001b[0;31m---------------------------------------------------------------------------\u001b[0m",
            "\u001b[0;31mKeyError\u001b[0m                                  Traceback (most recent call last)",
            "\u001b[0;32m<ipython-input-9-4615b6b0fdbe>\u001b[0m in \u001b[0;36m<cell line: 32>\u001b[0;34m()\u001b[0m\n\u001b[1;32m     30\u001b[0m }\n\u001b[1;32m     31\u001b[0m \u001b[0;34m\u001b[0m\u001b[0m\n\u001b[0;32m---> 32\u001b[0;31m \u001b[0mcolors\u001b[0m \u001b[0;34m=\u001b[0m \u001b[0;34m[\u001b[0m\u001b[0mcolor_map\u001b[0m\u001b[0;34m[\u001b[0m\u001b[0mdata\u001b[0m\u001b[0;34m[\u001b[0m\u001b[0;34m'atom'\u001b[0m\u001b[0;34m]\u001b[0m\u001b[0;34m]\u001b[0m \u001b[0;32mfor\u001b[0m \u001b[0m_\u001b[0m\u001b[0;34m,\u001b[0m \u001b[0mdata\u001b[0m \u001b[0;32min\u001b[0m \u001b[0mG\u001b[0m\u001b[0;34m.\u001b[0m\u001b[0mnodes\u001b[0m\u001b[0;34m(\u001b[0m\u001b[0mdata\u001b[0m\u001b[0;34m=\u001b[0m\u001b[0;32mTrue\u001b[0m\u001b[0;34m)\u001b[0m\u001b[0;34m]\u001b[0m\u001b[0;34m\u001b[0m\u001b[0;34m\u001b[0m\u001b[0m\n\u001b[0m\u001b[1;32m     33\u001b[0m \u001b[0;34m\u001b[0m\u001b[0m\n\u001b[1;32m     34\u001b[0m \u001b[0;31m# Get positions (2D projection)\u001b[0m\u001b[0;34m\u001b[0m\u001b[0;34m\u001b[0m\u001b[0m\n",
            "\u001b[0;32m<ipython-input-9-4615b6b0fdbe>\u001b[0m in \u001b[0;36m<listcomp>\u001b[0;34m(.0)\u001b[0m\n\u001b[1;32m     30\u001b[0m }\n\u001b[1;32m     31\u001b[0m \u001b[0;34m\u001b[0m\u001b[0m\n\u001b[0;32m---> 32\u001b[0;31m \u001b[0mcolors\u001b[0m \u001b[0;34m=\u001b[0m \u001b[0;34m[\u001b[0m\u001b[0mcolor_map\u001b[0m\u001b[0;34m[\u001b[0m\u001b[0mdata\u001b[0m\u001b[0;34m[\u001b[0m\u001b[0;34m'atom'\u001b[0m\u001b[0;34m]\u001b[0m\u001b[0;34m]\u001b[0m \u001b[0;32mfor\u001b[0m \u001b[0m_\u001b[0m\u001b[0;34m,\u001b[0m \u001b[0mdata\u001b[0m \u001b[0;32min\u001b[0m \u001b[0mG\u001b[0m\u001b[0;34m.\u001b[0m\u001b[0mnodes\u001b[0m\u001b[0;34m(\u001b[0m\u001b[0mdata\u001b[0m\u001b[0;34m=\u001b[0m\u001b[0;32mTrue\u001b[0m\u001b[0;34m)\u001b[0m\u001b[0;34m]\u001b[0m\u001b[0;34m\u001b[0m\u001b[0;34m\u001b[0m\u001b[0m\n\u001b[0m\u001b[1;32m     33\u001b[0m \u001b[0;34m\u001b[0m\u001b[0m\n\u001b[1;32m     34\u001b[0m \u001b[0;31m# Get positions (2D projection)\u001b[0m\u001b[0;34m\u001b[0m\u001b[0;34m\u001b[0m\u001b[0m\n",
            "\u001b[0;31mKeyError\u001b[0m: 'S'"
          ]
        }
      ]
    },
    {
      "cell_type": "code",
      "source": [
        "import matplotlib.pyplot as plt\n",
        "ppdb.df['ATOM']['b_factor'].plot(kind='hist')\n",
        "plt.title('Distribution of B-Factors')\n",
        "plt.xlabel('B-factor')\n",
        "plt.ylabel('count')\n",
        "plt.show()\n"
      ],
      "metadata": {
        "colab": {
          "base_uri": "https://localhost:8080/",
          "height": 472
        },
        "id": "UG0hY5a7ZdNp",
        "outputId": "71613ddd-1d29-4f90-b7d7-ea351ca63e1d"
      },
      "execution_count": 5,
      "outputs": [
        {
          "output_type": "display_data",
          "data": {
            "text/plain": [
              "<Figure size 640x480 with 1 Axes>"
            ],
            "image/png": "[encoded data removed]"
          },
          "metadata": {}
        }
      ]
    },
    {
      "cell_type": "code",
      "source": [
        "ppdb.df['ATOM']['b_factor'].plot(kind='line')\n",
        "plt.title('B-Factors Along the Amino Acid Chain')\n",
        "plt.xlabel('Residue Number')\n",
        "plt.ylabel('B-factor in $A^2$')\n",
        "plt.show()\n"
      ],
      "metadata": {
        "colab": {
          "base_uri": "https://localhost:8080/",
          "height": 472
        },
        "id": "JQSGNITvZ8f1",
        "outputId": "16e3b7ed-505f-4036-9e95-6fb3223df710"
      },
      "execution_count": 13,
      "outputs": [
        {
          "output_type": "display_data",
          "data": {
            "text/plain": [
              "<Figure size 640x480 with 1 Axes>"
            ],
            "image/png": "[encoded data removed]"
          },
          "metadata": {}
        }
      ]
    },
    {
      "cell_type": "code",
      "source": [
        "ppdb.df['ATOM']['element_symbol'].value_counts().plot(kind='bar')\n",
        "plt.title('Distribution of Atom Types')\n",
        "plt.xlabel('elements')\n",
        "plt.ylabel('count')\n",
        "plt.show()"
      ],
      "metadata": {
        "colab": {
          "base_uri": "https://localhost:8080/",
          "height": 469
        },
        "id": "yIjkPj0DaDQx",
        "outputId": "b60a00fa-e690-4eee-c4f4-81af34b2e5d0"
      },
      "execution_count": 14,
      "outputs": [
        {
          "output_type": "display_data",
          "data": {
            "text/plain": [
              "<Figure size 640x480 with 1 Axes>"
            ],
            "image/png": "[encoded data removed]"
          },
          "metadata": {}
        }
      ]
    },
    {
      "cell_type": "code",
      "source": [
        "#get the sequence\n",
        "from biopandas.pdb import PandasPdb\n",
        "ppdb = PandasPdb().fetch_pdb('5mtn')\n",
        "sequence = ppdb.amino3to1()\n",
        "sequence_list = list(sequence.loc[sequence['chain_id'] == 'A', 'residue_name'])\n",
        "''.join(sequence.loc[sequence['chain_id'] == 'A', 'residue_name'])"
      ],
      "metadata": {
        "colab": {
          "base_uri": "https://localhost:8080/",
          "height": 36
        },
        "id": "EPk9zgZKKbSX",
        "outputId": "82d11eec-0fe6-475c-b0a5-4347006d65cb"
      },
      "execution_count": 17,
      "outputs": [
        {
          "output_type": "execute_result",
          "data": {
            "text/plain": [
              "'SLEPEPWFFKNLSRKDAERQLLAPGNTHGSFLIRESESTAGSFSLSVRDFDQGEVVKHYKIRNLDNGGFYISPRITFPGLHELVRHYT'"
            ],
            "application/vnd.google.colaboratory.intrinsic+json": {
              "type": "string"
            }
          },
          "metadata": {},
          "execution_count": 17
        }
      ]
    },
    {
      "cell_type": "code",
      "source": [],
      "metadata": {
        "id": "IS_g7lfM0lxD"
      },
      "execution_count": null,
      "outputs": []
    }
  ]
}