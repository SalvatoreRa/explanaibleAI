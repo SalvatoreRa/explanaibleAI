{
 "cells": [
  {
   "cell_type": "markdown",
   "id": "833c5104-a7dd-4b5c-8feb-70f114fc0522",
   "metadata": {},
   "source": [
    "# Explain tensorflow model using Shap and model Weights on METABRIC data"
   ]
  },
  {
   "cell_type": "code",
   "execution_count": 669,
   "id": "86528d4d",
   "metadata": {},
   "outputs": [
    {
     "data": {
      "text/plain": [
       "'3.8.18'"
      ]
     },
     "execution_count": 669,
     "metadata": {},
     "output_type": "execute_result"
    }
   ],
   "source": [
    "from platform import python_version\n",
    "python_version()"
   ]
  },
  {
   "cell_type": "code",
   "execution_count": 140,
   "id": "649d2138-fed2-4153-8144-ef1b9137931f",
   "metadata": {},
   "outputs": [
    {
     "name": "stdout",
     "output_type": "stream",
     "text": [
      "TensorFlow has access to the following devices:\n",
      "[PhysicalDevice(name='/physical_device:CPU:0', device_type='CPU'), PhysicalDevice(name='/physical_device:GPU:0', device_type='GPU')]\n",
      "TensorFlow version: 2.13.0\n"
     ]
    }
   ],
   "source": [
    "import numpy as np\n",
    "import pandas as pd\n",
    "import sklearn\n",
    "import matplotlib.pyplot as plt\n",
    "from sklearn.model_selection import GridSearchCV \n",
    "from sklearn.model_selection import train_test_split\n",
    "from sklearn.preprocessing import MinMaxScaler\n",
    "from sklearn.metrics import confusion_matrix,ConfusionMatrixDisplay\n",
    "import tensorflow as tf\n",
    "from tensorflow import keras\n",
    "from tensorflow.keras.layers import Dense, Dropout\n",
    "from tensorflow.keras.callbacks import EarlyStopping\n",
    "from tensorflow.keras.models import Sequential\n",
    "from keras import regularizers\n",
    "import shap\n",
    "\n",
    "# Check for TensorFlow GPU access\n",
    "print(f\"TensorFlow has access to the following devices:\\n{tf.config.list_physical_devices()}\")\n",
    "\n",
    "# See TensorFlow version\n",
    "print(f\"TensorFlow version: {tf.__version__}\")"
   ]
  },
  {
   "cell_type": "code",
   "execution_count": 3,
   "id": "b1887b6f",
   "metadata": {},
   "outputs": [
    {
     "name": "stdout",
     "output_type": "stream",
     "text": [
      "WARNING:tensorflow:From /var/folders/r6/gdf2rxfj40dc6v2l0101z47m0000gn/T/ipykernel_41971/337460670.py:1: is_gpu_available (from tensorflow.python.framework.test_util) is deprecated and will be removed in a future version.\n",
      "Instructions for updating:\n",
      "Use `tf.config.list_physical_devices('GPU')` instead.\n"
     ]
    },
    {
     "name": "stderr",
     "output_type": "stream",
     "text": [
      "2024-02-21 11:15:16.717759: I metal_plugin/src/device/metal_device.cc:1154] Metal device set to: Apple M3 Max\n",
      "2024-02-21 11:15:16.717801: I metal_plugin/src/device/metal_device.cc:296] systemMemory: 128.00 GB\n",
      "2024-02-21 11:15:16.717813: I metal_plugin/src/device/metal_device.cc:313] maxCacheSize: 48.00 GB\n",
      "2024-02-21 11:15:16.717882: I tensorflow/core/common_runtime/pluggable_device/pluggable_device_factory.cc:303] Could not identify NUMA node of platform GPU ID 0, defaulting to 0. Your kernel may not have been built with NUMA support.\n",
      "2024-02-21 11:15:16.717916: I tensorflow/core/common_runtime/pluggable_device/pluggable_device_factory.cc:269] Created TensorFlow device (/device:GPU:0 with 0 MB memory) -> physical PluggableDevice (device: 0, name: METAL, pci bus id: <undefined>)\n"
     ]
    },
    {
     "data": {
      "text/plain": [
       "True"
      ]
     },
     "execution_count": 3,
     "metadata": {},
     "output_type": "execute_result"
    }
   ],
   "source": [
    "tf.test.is_gpu_available()"
   ]
  },
  {
   "cell_type": "markdown",
   "id": "d4dcf3c9",
   "metadata": {},
   "source": [
    "# Data loading and preprocessing "
   ]
  },
  {
   "cell_type": "markdown",
   "id": "6d76a6b9",
   "metadata": {},
   "source": [
    "## Expression data"
   ]
  },
  {
   "cell_type": "code",
   "execution_count": 40,
   "id": "40886447",
   "metadata": {},
   "outputs": [
    {
     "data": {
      "text/html": [
       "<div>\n",
       "<style scoped>\n",
       "    .dataframe tbody tr th:only-of-type {\n",
       "        vertical-align: middle;\n",
       "    }\n",
       "\n",
       "    .dataframe tbody tr th {\n",
       "        vertical-align: top;\n",
       "    }\n",
       "\n",
       "    .dataframe thead th {\n",
       "        text-align: right;\n",
       "    }\n",
       "</style>\n",
       "<table border=\"1\" class=\"dataframe\">\n",
       "  <thead>\n",
       "    <tr style=\"text-align: right;\">\n",
       "      <th></th>\n",
       "      <th>CD52</th>\n",
       "      <th>DARC</th>\n",
       "      <th>DCN</th>\n",
       "      <th>DB005376</th>\n",
       "      <th>TAT</th>\n",
       "      <th>GSTM1</th>\n",
       "      <th>UGT2B11</th>\n",
       "      <th>AKR7A3</th>\n",
       "      <th>SERHL2</th>\n",
       "      <th>ASS1</th>\n",
       "      <th>...</th>\n",
       "      <th>MYB</th>\n",
       "      <th>PROM1</th>\n",
       "      <th>GSTT1</th>\n",
       "      <th>NELL2</th>\n",
       "      <th>CST5</th>\n",
       "      <th>CCL5</th>\n",
       "      <th>TFF3</th>\n",
       "      <th>CDH3</th>\n",
       "      <th>SLC39A6</th>\n",
       "      <th>SHISA2</th>\n",
       "    </tr>\n",
       "  </thead>\n",
       "  <tbody>\n",
       "    <tr>\n",
       "      <th>0</th>\n",
       "      <td>8.240128</td>\n",
       "      <td>10.731211</td>\n",
       "      <td>11.251592</td>\n",
       "      <td>5.350604</td>\n",
       "      <td>5.698745</td>\n",
       "      <td>5.626606</td>\n",
       "      <td>5.845062</td>\n",
       "      <td>8.334491</td>\n",
       "      <td>7.150713</td>\n",
       "      <td>9.887783</td>\n",
       "      <td>...</td>\n",
       "      <td>7.864506</td>\n",
       "      <td>10.475799</td>\n",
       "      <td>5.236212</td>\n",
       "      <td>6.462909</td>\n",
       "      <td>5.333817</td>\n",
       "      <td>8.771015</td>\n",
       "      <td>10.545305</td>\n",
       "      <td>8.588759</td>\n",
       "      <td>8.287300</td>\n",
       "      <td>6.155340</td>\n",
       "    </tr>\n",
       "    <tr>\n",
       "      <th>1</th>\n",
       "      <td>7.441887</td>\n",
       "      <td>6.498731</td>\n",
       "      <td>9.968656</td>\n",
       "      <td>5.701508</td>\n",
       "      <td>5.416231</td>\n",
       "      <td>5.108180</td>\n",
       "      <td>5.382890</td>\n",
       "      <td>10.277779</td>\n",
       "      <td>6.070879</td>\n",
       "      <td>6.203103</td>\n",
       "      <td>...</td>\n",
       "      <td>10.699097</td>\n",
       "      <td>5.977531</td>\n",
       "      <td>8.450049</td>\n",
       "      <td>7.486917</td>\n",
       "      <td>5.464502</td>\n",
       "      <td>8.216436</td>\n",
       "      <td>10.422146</td>\n",
       "      <td>5.838056</td>\n",
       "      <td>10.380559</td>\n",
       "      <td>9.409817</td>\n",
       "    </tr>\n",
       "    <tr>\n",
       "      <th>2</th>\n",
       "      <td>7.977708</td>\n",
       "      <td>6.615727</td>\n",
       "      <td>9.632207</td>\n",
       "      <td>6.346358</td>\n",
       "      <td>5.480066</td>\n",
       "      <td>5.356168</td>\n",
       "      <td>7.798285</td>\n",
       "      <td>9.117568</td>\n",
       "      <td>6.230590</td>\n",
       "      <td>7.928613</td>\n",
       "      <td>...</td>\n",
       "      <td>9.861437</td>\n",
       "      <td>8.517411</td>\n",
       "      <td>7.230715</td>\n",
       "      <td>11.957439</td>\n",
       "      <td>5.359362</td>\n",
       "      <td>8.012079</td>\n",
       "      <td>12.201802</td>\n",
       "      <td>6.681570</td>\n",
       "      <td>10.009376</td>\n",
       "      <td>9.094121</td>\n",
       "    </tr>\n",
       "    <tr>\n",
       "      <th>3</th>\n",
       "      <td>8.045781</td>\n",
       "      <td>5.806614</td>\n",
       "      <td>8.927632</td>\n",
       "      <td>5.628718</td>\n",
       "      <td>5.746114</td>\n",
       "      <td>5.402901</td>\n",
       "      <td>6.043053</td>\n",
       "      <td>10.057702</td>\n",
       "      <td>11.682904</td>\n",
       "      <td>10.047193</td>\n",
       "      <td>...</td>\n",
       "      <td>9.138474</td>\n",
       "      <td>9.099391</td>\n",
       "      <td>8.072639</td>\n",
       "      <td>12.478907</td>\n",
       "      <td>5.523048</td>\n",
       "      <td>9.245577</td>\n",
       "      <td>14.169804</td>\n",
       "      <td>6.392376</td>\n",
       "      <td>11.141299</td>\n",
       "      <td>10.039994</td>\n",
       "    </tr>\n",
       "    <tr>\n",
       "      <th>4</th>\n",
       "      <td>9.001653</td>\n",
       "      <td>7.928994</td>\n",
       "      <td>9.356798</td>\n",
       "      <td>5.484226</td>\n",
       "      <td>5.152513</td>\n",
       "      <td>5.401268</td>\n",
       "      <td>8.511554</td>\n",
       "      <td>11.127156</td>\n",
       "      <td>7.472530</td>\n",
       "      <td>7.200276</td>\n",
       "      <td>...</td>\n",
       "      <td>9.591358</td>\n",
       "      <td>7.264378</td>\n",
       "      <td>8.975517</td>\n",
       "      <td>10.044922</td>\n",
       "      <td>5.034380</td>\n",
       "      <td>10.243518</td>\n",
       "      <td>13.568835</td>\n",
       "      <td>8.476834</td>\n",
       "      <td>8.916101</td>\n",
       "      <td>5.929184</td>\n",
       "    </tr>\n",
       "  </tbody>\n",
       "</table>\n",
       "<p>5 rows × 295 columns</p>\n",
       "</div>"
      ],
      "text/plain": [
       "       CD52       DARC        DCN  DB005376       TAT     GSTM1   UGT2B11  \\\n",
       "0  8.240128  10.731211  11.251592  5.350604  5.698745  5.626606  5.845062   \n",
       "1  7.441887   6.498731   9.968656  5.701508  5.416231  5.108180  5.382890   \n",
       "2  7.977708   6.615727   9.632207  6.346358  5.480066  5.356168  7.798285   \n",
       "3  8.045781   5.806614   8.927632  5.628718  5.746114  5.402901  6.043053   \n",
       "4  9.001653   7.928994   9.356798  5.484226  5.152513  5.401268  8.511554   \n",
       "\n",
       "      AKR7A3     SERHL2       ASS1  ...        MYB      PROM1     GSTT1  \\\n",
       "0   8.334491   7.150713   9.887783  ...   7.864506  10.475799  5.236212   \n",
       "1  10.277779   6.070879   6.203103  ...  10.699097   5.977531  8.450049   \n",
       "2   9.117568   6.230590   7.928613  ...   9.861437   8.517411  7.230715   \n",
       "3  10.057702  11.682904  10.047193  ...   9.138474   9.099391  8.072639   \n",
       "4  11.127156   7.472530   7.200276  ...   9.591358   7.264378  8.975517   \n",
       "\n",
       "       NELL2      CST5       CCL5       TFF3      CDH3    SLC39A6     SHISA2  \n",
       "0   6.462909  5.333817   8.771015  10.545305  8.588759   8.287300   6.155340  \n",
       "1   7.486917  5.464502   8.216436  10.422146  5.838056  10.380559   9.409817  \n",
       "2  11.957439  5.359362   8.012079  12.201802  6.681570  10.009376   9.094121  \n",
       "3  12.478907  5.523048   9.245577  14.169804  6.392376  11.141299  10.039994  \n",
       "4  10.044922  5.034380  10.243518  13.568835  8.476834   8.916101   5.929184  \n",
       "\n",
       "[5 rows x 295 columns]"
      ]
     },
     "execution_count": 40,
     "metadata": {},
     "output_type": "execute_result"
    }
   ],
   "source": [
    "metabric_X = \"https://raw.githubusercontent.com/SalvatoreRa/explanaibleAI/main/tabular_methods/Data/metabric_test.csv\"\n",
    "df = pd.read_csv(metabric_X)\n",
    "df.head(5)"
   ]
  },
  {
   "cell_type": "code",
   "execution_count": 41,
   "id": "48850e5d",
   "metadata": {},
   "outputs": [
    {
     "name": "stdout",
     "output_type": "stream",
     "text": [
      "<class 'pandas.core.frame.DataFrame'>\n",
      "RangeIndex: 1897 entries, 0 to 1896\n",
      "Columns: 295 entries, CD52 to SHISA2\n",
      "dtypes: float64(295)\n",
      "memory usage: 4.3 MB\n"
     ]
    }
   ],
   "source": [
    "df.info()"
   ]
  },
  {
   "cell_type": "code",
   "execution_count": 42,
   "id": "b03aa985",
   "metadata": {},
   "outputs": [
    {
     "data": {
      "text/html": [
       "<div>\n",
       "<style scoped>\n",
       "    .dataframe tbody tr th:only-of-type {\n",
       "        vertical-align: middle;\n",
       "    }\n",
       "\n",
       "    .dataframe tbody tr th {\n",
       "        vertical-align: top;\n",
       "    }\n",
       "\n",
       "    .dataframe thead th {\n",
       "        text-align: right;\n",
       "    }\n",
       "</style>\n",
       "<table border=\"1\" class=\"dataframe\">\n",
       "  <thead>\n",
       "    <tr style=\"text-align: right;\">\n",
       "      <th></th>\n",
       "      <th>CD52</th>\n",
       "      <th>DARC</th>\n",
       "      <th>DCN</th>\n",
       "      <th>DB005376</th>\n",
       "      <th>TAT</th>\n",
       "      <th>GSTM1</th>\n",
       "      <th>UGT2B11</th>\n",
       "      <th>AKR7A3</th>\n",
       "      <th>SERHL2</th>\n",
       "      <th>ASS1</th>\n",
       "      <th>...</th>\n",
       "      <th>MYB</th>\n",
       "      <th>PROM1</th>\n",
       "      <th>GSTT1</th>\n",
       "      <th>NELL2</th>\n",
       "      <th>CST5</th>\n",
       "      <th>CCL5</th>\n",
       "      <th>TFF3</th>\n",
       "      <th>CDH3</th>\n",
       "      <th>SLC39A6</th>\n",
       "      <th>SHISA2</th>\n",
       "    </tr>\n",
       "  </thead>\n",
       "  <tbody>\n",
       "    <tr>\n",
       "      <th>count</th>\n",
       "      <td>1897.000000</td>\n",
       "      <td>1897.000000</td>\n",
       "      <td>1897.000000</td>\n",
       "      <td>1897.000000</td>\n",
       "      <td>1897.000000</td>\n",
       "      <td>1897.000000</td>\n",
       "      <td>1897.000000</td>\n",
       "      <td>1897.000000</td>\n",
       "      <td>1897.000000</td>\n",
       "      <td>1897.000000</td>\n",
       "      <td>...</td>\n",
       "      <td>1897.000000</td>\n",
       "      <td>1897.000000</td>\n",
       "      <td>1897.000000</td>\n",
       "      <td>1897.000000</td>\n",
       "      <td>1897.000000</td>\n",
       "      <td>1897.000000</td>\n",
       "      <td>1897.000000</td>\n",
       "      <td>1897.000000</td>\n",
       "      <td>1897.000000</td>\n",
       "      <td>1897.000000</td>\n",
       "    </tr>\n",
       "    <tr>\n",
       "      <th>mean</th>\n",
       "      <td>8.522002</td>\n",
       "      <td>7.439279</td>\n",
       "      <td>8.592254</td>\n",
       "      <td>6.084079</td>\n",
       "      <td>6.267616</td>\n",
       "      <td>6.477882</td>\n",
       "      <td>6.920908</td>\n",
       "      <td>9.397352</td>\n",
       "      <td>7.558455</td>\n",
       "      <td>8.298495</td>\n",
       "      <td>...</td>\n",
       "      <td>9.743111</td>\n",
       "      <td>8.041666</td>\n",
       "      <td>8.295523</td>\n",
       "      <td>7.466347</td>\n",
       "      <td>6.033271</td>\n",
       "      <td>9.845330</td>\n",
       "      <td>11.742209</td>\n",
       "      <td>7.465389</td>\n",
       "      <td>9.204424</td>\n",
       "      <td>7.725656</td>\n",
       "    </tr>\n",
       "    <tr>\n",
       "      <th>std</th>\n",
       "      <td>1.349624</td>\n",
       "      <td>1.323882</td>\n",
       "      <td>1.366120</td>\n",
       "      <td>1.489150</td>\n",
       "      <td>1.623607</td>\n",
       "      <td>1.490238</td>\n",
       "      <td>2.132190</td>\n",
       "      <td>1.280389</td>\n",
       "      <td>1.724598</td>\n",
       "      <td>1.314099</td>\n",
       "      <td>...</td>\n",
       "      <td>1.242550</td>\n",
       "      <td>1.996117</td>\n",
       "      <td>1.691650</td>\n",
       "      <td>1.532031</td>\n",
       "      <td>1.500256</td>\n",
       "      <td>1.357065</td>\n",
       "      <td>2.444823</td>\n",
       "      <td>1.274105</td>\n",
       "      <td>1.620264</td>\n",
       "      <td>1.659966</td>\n",
       "    </tr>\n",
       "    <tr>\n",
       "      <th>min</th>\n",
       "      <td>5.018810</td>\n",
       "      <td>5.099984</td>\n",
       "      <td>5.074217</td>\n",
       "      <td>4.922326</td>\n",
       "      <td>4.925973</td>\n",
       "      <td>4.939510</td>\n",
       "      <td>4.988302</td>\n",
       "      <td>6.888636</td>\n",
       "      <td>5.214098</td>\n",
       "      <td>5.001618</td>\n",
       "      <td>...</td>\n",
       "      <td>5.565536</td>\n",
       "      <td>5.047322</td>\n",
       "      <td>4.854543</td>\n",
       "      <td>5.030010</td>\n",
       "      <td>4.965204</td>\n",
       "      <td>5.685101</td>\n",
       "      <td>5.154748</td>\n",
       "      <td>5.103031</td>\n",
       "      <td>5.510203</td>\n",
       "      <td>5.119337</td>\n",
       "    </tr>\n",
       "    <tr>\n",
       "      <th>25%</th>\n",
       "      <td>7.526147</td>\n",
       "      <td>6.337077</td>\n",
       "      <td>7.585572</td>\n",
       "      <td>5.315275</td>\n",
       "      <td>5.400663</td>\n",
       "      <td>5.428807</td>\n",
       "      <td>5.547688</td>\n",
       "      <td>8.359180</td>\n",
       "      <td>6.265815</td>\n",
       "      <td>7.277712</td>\n",
       "      <td>...</td>\n",
       "      <td>9.072006</td>\n",
       "      <td>6.297426</td>\n",
       "      <td>7.469392</td>\n",
       "      <td>6.264153</td>\n",
       "      <td>5.337878</td>\n",
       "      <td>8.875585</td>\n",
       "      <td>10.657896</td>\n",
       "      <td>6.461509</td>\n",
       "      <td>7.869267</td>\n",
       "      <td>6.363869</td>\n",
       "    </tr>\n",
       "    <tr>\n",
       "      <th>50%</th>\n",
       "      <td>8.448275</td>\n",
       "      <td>7.331663</td>\n",
       "      <td>8.608817</td>\n",
       "      <td>5.461374</td>\n",
       "      <td>5.563156</td>\n",
       "      <td>5.624529</td>\n",
       "      <td>5.881415</td>\n",
       "      <td>9.331409</td>\n",
       "      <td>7.083379</td>\n",
       "      <td>8.280220</td>\n",
       "      <td>...</td>\n",
       "      <td>10.023695</td>\n",
       "      <td>7.623121</td>\n",
       "      <td>8.889979</td>\n",
       "      <td>7.056264</td>\n",
       "      <td>5.484401</td>\n",
       "      <td>9.857851</td>\n",
       "      <td>12.473404</td>\n",
       "      <td>7.303850</td>\n",
       "      <td>9.201048</td>\n",
       "      <td>7.358426</td>\n",
       "    </tr>\n",
       "    <tr>\n",
       "      <th>75%</th>\n",
       "      <td>9.428863</td>\n",
       "      <td>8.370030</td>\n",
       "      <td>9.566763</td>\n",
       "      <td>5.971988</td>\n",
       "      <td>6.175448</td>\n",
       "      <td>7.490048</td>\n",
       "      <td>7.556015</td>\n",
       "      <td>10.241203</td>\n",
       "      <td>8.371308</td>\n",
       "      <td>9.256413</td>\n",
       "      <td>...</td>\n",
       "      <td>10.654395</td>\n",
       "      <td>9.607842</td>\n",
       "      <td>9.489065</td>\n",
       "      <td>8.371956</td>\n",
       "      <td>5.818663</td>\n",
       "      <td>10.791775</td>\n",
       "      <td>13.588736</td>\n",
       "      <td>8.255375</td>\n",
       "      <td>10.508201</td>\n",
       "      <td>8.869039</td>\n",
       "    </tr>\n",
       "    <tr>\n",
       "      <th>max</th>\n",
       "      <td>13.374739</td>\n",
       "      <td>11.619202</td>\n",
       "      <td>12.478475</td>\n",
       "      <td>13.010996</td>\n",
       "      <td>13.166804</td>\n",
       "      <td>12.070735</td>\n",
       "      <td>14.145451</td>\n",
       "      <td>13.512971</td>\n",
       "      <td>13.731721</td>\n",
       "      <td>12.182876</td>\n",
       "      <td>...</td>\n",
       "      <td>12.091906</td>\n",
       "      <td>13.569006</td>\n",
       "      <td>12.784519</td>\n",
       "      <td>13.110442</td>\n",
       "      <td>13.922840</td>\n",
       "      <td>14.004198</td>\n",
       "      <td>14.808641</td>\n",
       "      <td>12.003642</td>\n",
       "      <td>13.440167</td>\n",
       "      <td>12.874823</td>\n",
       "    </tr>\n",
       "  </tbody>\n",
       "</table>\n",
       "<p>8 rows × 295 columns</p>\n",
       "</div>"
      ],
      "text/plain": [
       "              CD52         DARC          DCN     DB005376          TAT  \\\n",
       "count  1897.000000  1897.000000  1897.000000  1897.000000  1897.000000   \n",
       "mean      8.522002     7.439279     8.592254     6.084079     6.267616   \n",
       "std       1.349624     1.323882     1.366120     1.489150     1.623607   \n",
       "min       5.018810     5.099984     5.074217     4.922326     4.925973   \n",
       "25%       7.526147     6.337077     7.585572     5.315275     5.400663   \n",
       "50%       8.448275     7.331663     8.608817     5.461374     5.563156   \n",
       "75%       9.428863     8.370030     9.566763     5.971988     6.175448   \n",
       "max      13.374739    11.619202    12.478475    13.010996    13.166804   \n",
       "\n",
       "             GSTM1      UGT2B11       AKR7A3       SERHL2         ASS1  ...  \\\n",
       "count  1897.000000  1897.000000  1897.000000  1897.000000  1897.000000  ...   \n",
       "mean      6.477882     6.920908     9.397352     7.558455     8.298495  ...   \n",
       "std       1.490238     2.132190     1.280389     1.724598     1.314099  ...   \n",
       "min       4.939510     4.988302     6.888636     5.214098     5.001618  ...   \n",
       "25%       5.428807     5.547688     8.359180     6.265815     7.277712  ...   \n",
       "50%       5.624529     5.881415     9.331409     7.083379     8.280220  ...   \n",
       "75%       7.490048     7.556015    10.241203     8.371308     9.256413  ...   \n",
       "max      12.070735    14.145451    13.512971    13.731721    12.182876  ...   \n",
       "\n",
       "               MYB        PROM1        GSTT1        NELL2         CST5  \\\n",
       "count  1897.000000  1897.000000  1897.000000  1897.000000  1897.000000   \n",
       "mean      9.743111     8.041666     8.295523     7.466347     6.033271   \n",
       "std       1.242550     1.996117     1.691650     1.532031     1.500256   \n",
       "min       5.565536     5.047322     4.854543     5.030010     4.965204   \n",
       "25%       9.072006     6.297426     7.469392     6.264153     5.337878   \n",
       "50%      10.023695     7.623121     8.889979     7.056264     5.484401   \n",
       "75%      10.654395     9.607842     9.489065     8.371956     5.818663   \n",
       "max      12.091906    13.569006    12.784519    13.110442    13.922840   \n",
       "\n",
       "              CCL5         TFF3         CDH3      SLC39A6       SHISA2  \n",
       "count  1897.000000  1897.000000  1897.000000  1897.000000  1897.000000  \n",
       "mean      9.845330    11.742209     7.465389     9.204424     7.725656  \n",
       "std       1.357065     2.444823     1.274105     1.620264     1.659966  \n",
       "min       5.685101     5.154748     5.103031     5.510203     5.119337  \n",
       "25%       8.875585    10.657896     6.461509     7.869267     6.363869  \n",
       "50%       9.857851    12.473404     7.303850     9.201048     7.358426  \n",
       "75%      10.791775    13.588736     8.255375    10.508201     8.869039  \n",
       "max      14.004198    14.808641    12.003642    13.440167    12.874823  \n",
       "\n",
       "[8 rows x 295 columns]"
      ]
     },
     "execution_count": 42,
     "metadata": {},
     "output_type": "execute_result"
    }
   ],
   "source": [
    "df.describe()"
   ]
  },
  {
   "cell_type": "markdown",
   "id": "5a4f4486",
   "metadata": {},
   "source": [
    "## Label data "
   ]
  },
  {
   "cell_type": "code",
   "execution_count": 43,
   "id": "692deddc",
   "metadata": {},
   "outputs": [
    {
     "data": {
      "text/html": [
       "<div>\n",
       "<style scoped>\n",
       "    .dataframe tbody tr th:only-of-type {\n",
       "        vertical-align: middle;\n",
       "    }\n",
       "\n",
       "    .dataframe tbody tr th {\n",
       "        vertical-align: top;\n",
       "    }\n",
       "\n",
       "    .dataframe thead th {\n",
       "        text-align: right;\n",
       "    }\n",
       "</style>\n",
       "<table border=\"1\" class=\"dataframe\">\n",
       "  <thead>\n",
       "    <tr style=\"text-align: right;\">\n",
       "      <th></th>\n",
       "      <th>PATIENT_ID</th>\n",
       "      <th>LYMPH_NODES_EXAMINED_POSITIVE</th>\n",
       "      <th>NPI</th>\n",
       "      <th>CELLULARITY</th>\n",
       "      <th>CHEMOTHERAPY</th>\n",
       "      <th>COHORT</th>\n",
       "      <th>ER_IHC</th>\n",
       "      <th>HER2_SNP6</th>\n",
       "      <th>HORMONE_THERAPY</th>\n",
       "      <th>INFERRED_MENOPAUSAL_STATE</th>\n",
       "      <th>...</th>\n",
       "      <th>OS_STATUS</th>\n",
       "      <th>CLAUDIN_SUBTYPE</th>\n",
       "      <th>THREEGENE</th>\n",
       "      <th>VITAL_STATUS</th>\n",
       "      <th>LATERALITY</th>\n",
       "      <th>RADIO_THERAPY</th>\n",
       "      <th>HISTOLOGICAL_SUBTYPE</th>\n",
       "      <th>BREAST_SURGERY</th>\n",
       "      <th>RFS_STATUS</th>\n",
       "      <th>RFS_MONTHS</th>\n",
       "    </tr>\n",
       "  </thead>\n",
       "  <tbody>\n",
       "    <tr>\n",
       "      <th>0</th>\n",
       "      <td>MB-0000</td>\n",
       "      <td>10.0</td>\n",
       "      <td>6.044</td>\n",
       "      <td>NaN</td>\n",
       "      <td>NO</td>\n",
       "      <td>1.0</td>\n",
       "      <td>Positve</td>\n",
       "      <td>NEUTRAL</td>\n",
       "      <td>YES</td>\n",
       "      <td>Post</td>\n",
       "      <td>...</td>\n",
       "      <td>0:LIVING</td>\n",
       "      <td>claudin-low</td>\n",
       "      <td>ER-/HER2-</td>\n",
       "      <td>Living</td>\n",
       "      <td>Right</td>\n",
       "      <td>YES</td>\n",
       "      <td>Ductal/NST</td>\n",
       "      <td>MASTECTOMY</td>\n",
       "      <td>0:Not Recurred</td>\n",
       "      <td>138.65</td>\n",
       "    </tr>\n",
       "    <tr>\n",
       "      <th>1</th>\n",
       "      <td>MB-0002</td>\n",
       "      <td>0.0</td>\n",
       "      <td>4.020</td>\n",
       "      <td>High</td>\n",
       "      <td>NO</td>\n",
       "      <td>1.0</td>\n",
       "      <td>Positve</td>\n",
       "      <td>NEUTRAL</td>\n",
       "      <td>YES</td>\n",
       "      <td>Pre</td>\n",
       "      <td>...</td>\n",
       "      <td>0:LIVING</td>\n",
       "      <td>LumA</td>\n",
       "      <td>ER+/HER2- High Prolif</td>\n",
       "      <td>Living</td>\n",
       "      <td>Right</td>\n",
       "      <td>YES</td>\n",
       "      <td>Ductal/NST</td>\n",
       "      <td>BREAST CONSERVING</td>\n",
       "      <td>0:Not Recurred</td>\n",
       "      <td>83.52</td>\n",
       "    </tr>\n",
       "    <tr>\n",
       "      <th>2</th>\n",
       "      <td>MB-0005</td>\n",
       "      <td>1.0</td>\n",
       "      <td>4.030</td>\n",
       "      <td>High</td>\n",
       "      <td>YES</td>\n",
       "      <td>1.0</td>\n",
       "      <td>Positve</td>\n",
       "      <td>NEUTRAL</td>\n",
       "      <td>YES</td>\n",
       "      <td>Pre</td>\n",
       "      <td>...</td>\n",
       "      <td>1:DECEASED</td>\n",
       "      <td>LumB</td>\n",
       "      <td>NaN</td>\n",
       "      <td>Died of Disease</td>\n",
       "      <td>Right</td>\n",
       "      <td>NO</td>\n",
       "      <td>Ductal/NST</td>\n",
       "      <td>MASTECTOMY</td>\n",
       "      <td>1:Recurred</td>\n",
       "      <td>151.28</td>\n",
       "    </tr>\n",
       "    <tr>\n",
       "      <th>3</th>\n",
       "      <td>MB-0006</td>\n",
       "      <td>3.0</td>\n",
       "      <td>4.050</td>\n",
       "      <td>Moderate</td>\n",
       "      <td>YES</td>\n",
       "      <td>1.0</td>\n",
       "      <td>Positve</td>\n",
       "      <td>NEUTRAL</td>\n",
       "      <td>YES</td>\n",
       "      <td>Pre</td>\n",
       "      <td>...</td>\n",
       "      <td>0:LIVING</td>\n",
       "      <td>LumB</td>\n",
       "      <td>NaN</td>\n",
       "      <td>Living</td>\n",
       "      <td>Right</td>\n",
       "      <td>YES</td>\n",
       "      <td>Mixed</td>\n",
       "      <td>MASTECTOMY</td>\n",
       "      <td>0:Not Recurred</td>\n",
       "      <td>162.76</td>\n",
       "    </tr>\n",
       "    <tr>\n",
       "      <th>4</th>\n",
       "      <td>MB-0008</td>\n",
       "      <td>8.0</td>\n",
       "      <td>6.080</td>\n",
       "      <td>High</td>\n",
       "      <td>YES</td>\n",
       "      <td>1.0</td>\n",
       "      <td>Positve</td>\n",
       "      <td>NEUTRAL</td>\n",
       "      <td>YES</td>\n",
       "      <td>Post</td>\n",
       "      <td>...</td>\n",
       "      <td>1:DECEASED</td>\n",
       "      <td>LumB</td>\n",
       "      <td>ER+/HER2- High Prolif</td>\n",
       "      <td>Died of Disease</td>\n",
       "      <td>Right</td>\n",
       "      <td>YES</td>\n",
       "      <td>Mixed</td>\n",
       "      <td>MASTECTOMY</td>\n",
       "      <td>1:Recurred</td>\n",
       "      <td>18.55</td>\n",
       "    </tr>\n",
       "  </tbody>\n",
       "</table>\n",
       "<p>5 rows × 24 columns</p>\n",
       "</div>"
      ],
      "text/plain": [
       "  PATIENT_ID  LYMPH_NODES_EXAMINED_POSITIVE    NPI CELLULARITY CHEMOTHERAPY  \\\n",
       "0    MB-0000                           10.0  6.044         NaN           NO   \n",
       "1    MB-0002                            0.0  4.020        High           NO   \n",
       "2    MB-0005                            1.0  4.030        High          YES   \n",
       "3    MB-0006                            3.0  4.050    Moderate          YES   \n",
       "4    MB-0008                            8.0  6.080        High          YES   \n",
       "\n",
       "   COHORT   ER_IHC HER2_SNP6 HORMONE_THERAPY INFERRED_MENOPAUSAL_STATE  ...  \\\n",
       "0     1.0  Positve   NEUTRAL             YES                      Post  ...   \n",
       "1     1.0  Positve   NEUTRAL             YES                       Pre  ...   \n",
       "2     1.0  Positve   NEUTRAL             YES                       Pre  ...   \n",
       "3     1.0  Positve   NEUTRAL             YES                       Pre  ...   \n",
       "4     1.0  Positve   NEUTRAL             YES                      Post  ...   \n",
       "\n",
       "    OS_STATUS CLAUDIN_SUBTYPE              THREEGENE     VITAL_STATUS  \\\n",
       "0    0:LIVING     claudin-low              ER-/HER2-           Living   \n",
       "1    0:LIVING            LumA  ER+/HER2- High Prolif           Living   \n",
       "2  1:DECEASED            LumB                    NaN  Died of Disease   \n",
       "3    0:LIVING            LumB                    NaN           Living   \n",
       "4  1:DECEASED            LumB  ER+/HER2- High Prolif  Died of Disease   \n",
       "\n",
       "  LATERALITY RADIO_THERAPY HISTOLOGICAL_SUBTYPE     BREAST_SURGERY  \\\n",
       "0      Right           YES           Ductal/NST         MASTECTOMY   \n",
       "1      Right           YES           Ductal/NST  BREAST CONSERVING   \n",
       "2      Right            NO           Ductal/NST         MASTECTOMY   \n",
       "3      Right           YES                Mixed         MASTECTOMY   \n",
       "4      Right           YES                Mixed         MASTECTOMY   \n",
       "\n",
       "       RFS_STATUS RFS_MONTHS  \n",
       "0  0:Not Recurred     138.65  \n",
       "1  0:Not Recurred      83.52  \n",
       "2      1:Recurred     151.28  \n",
       "3  0:Not Recurred     162.76  \n",
       "4      1:Recurred      18.55  \n",
       "\n",
       "[5 rows x 24 columns]"
      ]
     },
     "execution_count": 43,
     "metadata": {},
     "output_type": "execute_result"
    }
   ],
   "source": [
    "metabric_y = \"https://raw.githubusercontent.com/SalvatoreRa/explanaibleAI/main/tabular_methods/Data/metabric_clin.csv\"\n",
    "metadata = pd.read_csv(metabric_y)\n",
    "metadata.head(5)"
   ]
  },
  {
   "cell_type": "code",
   "execution_count": 45,
   "id": "81371c78",
   "metadata": {},
   "outputs": [
    {
     "name": "stdout",
     "output_type": "stream",
     "text": [
      "<class 'pandas.core.frame.DataFrame'>\n",
      "RangeIndex: 1897 entries, 0 to 1896\n",
      "Data columns (total 24 columns):\n",
      " #   Column                         Non-Null Count  Dtype  \n",
      "---  ------                         --------------  -----  \n",
      " 0   PATIENT_ID                     1897 non-null   object \n",
      " 1   LYMPH_NODES_EXAMINED_POSITIVE  1897 non-null   float64\n",
      " 2   NPI                            1897 non-null   float64\n",
      " 3   CELLULARITY                    1843 non-null   object \n",
      " 4   CHEMOTHERAPY                   1897 non-null   object \n",
      " 5   COHORT                         1897 non-null   float64\n",
      " 6   ER_IHC                         1867 non-null   object \n",
      " 7   HER2_SNP6                      1897 non-null   object \n",
      " 8   HORMONE_THERAPY                1897 non-null   object \n",
      " 9   INFERRED_MENOPAUSAL_STATE      1897 non-null   object \n",
      " 10  SEX                            1897 non-null   object \n",
      " 11  INTCLUST                       1897 non-null   object \n",
      " 12  AGE_AT_DIAGNOSIS               1897 non-null   float64\n",
      " 13  OS_MONTHS                      1897 non-null   float64\n",
      " 14  OS_STATUS                      1897 non-null   object \n",
      " 15  CLAUDIN_SUBTYPE                1897 non-null   object \n",
      " 16  THREEGENE                      1694 non-null   object \n",
      " 17  VITAL_STATUS                   1897 non-null   object \n",
      " 18  LATERALITY                     1792 non-null   object \n",
      " 19  RADIO_THERAPY                  1897 non-null   object \n",
      " 20  HISTOLOGICAL_SUBTYPE           1882 non-null   object \n",
      " 21  BREAST_SURGERY                 1875 non-null   object \n",
      " 22  RFS_STATUS                     1897 non-null   object \n",
      " 23  RFS_MONTHS                     1897 non-null   float64\n",
      "dtypes: float64(6), object(18)\n",
      "memory usage: 355.8+ KB\n"
     ]
    }
   ],
   "source": [
    "metadata.info()"
   ]
  },
  {
   "cell_type": "code",
   "execution_count": 46,
   "id": "58c3f68e",
   "metadata": {},
   "outputs": [
    {
     "data": {
      "text/plain": [
       "Index(['PATIENT_ID', 'LYMPH_NODES_EXAMINED_POSITIVE', 'NPI', 'CELLULARITY',\n",
       "       'CHEMOTHERAPY', 'COHORT', 'ER_IHC', 'HER2_SNP6', 'HORMONE_THERAPY',\n",
       "       'INFERRED_MENOPAUSAL_STATE', 'SEX', 'INTCLUST', 'AGE_AT_DIAGNOSIS',\n",
       "       'OS_MONTHS', 'OS_STATUS', 'CLAUDIN_SUBTYPE', 'THREEGENE',\n",
       "       'VITAL_STATUS', 'LATERALITY', 'RADIO_THERAPY', 'HISTOLOGICAL_SUBTYPE',\n",
       "       'BREAST_SURGERY', 'RFS_STATUS', 'RFS_MONTHS'],\n",
       "      dtype='object')"
      ]
     },
     "execution_count": 46,
     "metadata": {},
     "output_type": "execute_result"
    }
   ],
   "source": [
    "metadata.columns"
   ]
  },
  {
   "cell_type": "code",
   "execution_count": 47,
   "id": "60e97e6e",
   "metadata": {},
   "outputs": [
    {
     "name": "stdout",
     "output_type": "stream",
     "text": [
      "The total patient ids are 1897, from those the unique ids are 1897 \n"
     ]
    }
   ],
   "source": [
    "print(f\"The total patient ids are {metadata['PATIENT_ID'].count()}, from those the unique ids are {metadata['PATIENT_ID'].value_counts().shape[0]} \")"
   ]
  },
  {
   "cell_type": "code",
   "execution_count": 48,
   "id": "97546145",
   "metadata": {},
   "outputs": [
    {
     "name": "stdout",
     "output_type": "stream",
     "text": [
      "['PATIENT_ID', 'LYMPH_NODES_EXAMINED_POSITIVE', 'NPI', 'CELLULARITY', 'CHEMOTHERAPY', 'COHORT', 'ER_IHC', 'HER2_SNP6', 'HORMONE_THERAPY', 'INFERRED_MENOPAUSAL_STATE', 'SEX', 'INTCLUST', 'AGE_AT_DIAGNOSIS', 'OS_MONTHS', 'OS_STATUS', 'CLAUDIN_SUBTYPE', 'THREEGENE', 'VITAL_STATUS', 'LATERALITY', 'RADIO_THERAPY', 'HISTOLOGICAL_SUBTYPE', 'BREAST_SURGERY', 'RFS_STATUS', 'RFS_MONTHS']\n"
     ]
    }
   ],
   "source": [
    "columns = metadata.keys()\n",
    "columns = list(columns)\n",
    "print(columns)"
   ]
  },
  {
   "cell_type": "code",
   "execution_count": 49,
   "id": "54cb76ca",
   "metadata": {},
   "outputs": [
    {
     "name": "stdout",
     "output_type": "stream",
     "text": [
      "There are 23 columns of labels for these conditions: ['LYMPH_NODES_EXAMINED_POSITIVE', 'NPI', 'CELLULARITY', 'CHEMOTHERAPY', 'COHORT', 'ER_IHC', 'HER2_SNP6', 'HORMONE_THERAPY', 'INFERRED_MENOPAUSAL_STATE', 'SEX', 'INTCLUST', 'AGE_AT_DIAGNOSIS', 'OS_MONTHS', 'OS_STATUS', 'CLAUDIN_SUBTYPE', 'THREEGENE', 'VITAL_STATUS', 'LATERALITY', 'RADIO_THERAPY', 'HISTOLOGICAL_SUBTYPE', 'BREAST_SURGERY', 'RFS_STATUS', 'RFS_MONTHS']\n"
     ]
    }
   ],
   "source": [
    "# Remove unnecesary elements\n",
    "columns.remove('PATIENT_ID')\n",
    "# Get the total classes\n",
    "print(f\"There are {len(columns)} columns of labels for these conditions: {columns}\")"
   ]
  },
  {
   "cell_type": "code",
   "execution_count": 50,
   "id": "521a36ed",
   "metadata": {},
   "outputs": [
    {
     "data": {
      "text/plain": [
       "array(['ER-/HER2-', 'ER+/HER2- High Prolif', nan, 'ER+/HER2- Low Prolif',\n",
       "       'HER2+'], dtype=object)"
      ]
     },
     "execution_count": 50,
     "metadata": {},
     "output_type": "execute_result"
    }
   ],
   "source": [
    "metadata['THREEGENE'].unique()"
   ]
  },
  {
   "cell_type": "code",
   "execution_count": 51,
   "id": "a232e7ec",
   "metadata": {},
   "outputs": [
    {
     "name": "stdout",
     "output_type": "stream",
     "text": [
      "The total patient ids are 1897, from those the unique ids CHEMOTHERAPY are 2 \n"
     ]
    }
   ],
   "source": [
    "print(f\"The total patient ids are {metadata['PATIENT_ID'].count()}, from those the unique ids CHEMOTHERAPY are {metadata['CHEMOTHERAPY'].value_counts().shape[0]} \")"
   ]
  },
  {
   "cell_type": "code",
   "execution_count": 52,
   "id": "92a424e4",
   "metadata": {},
   "outputs": [
    {
     "name": "stdout",
     "output_type": "stream",
     "text": [
      "Number of patient ER-/HER2- :290\n",
      "Number of patient ER+/HER2- High Prolif :598\n",
      "Number of patient ER+/HER2- Low Prolif :618\n",
      "Number of patient HER2+ :188\n",
      "Number of patient nan :0\n"
     ]
    }
   ],
   "source": [
    "print(f'Number of patient ER-/HER2- :%i'  %metadata[metadata['THREEGENE']=='ER-/HER2-'].count()[0])\n",
    "print(f'Number of patient ER+/HER2- High Prolif :%i'  %metadata[metadata['THREEGENE']=='ER+/HER2- High Prolif'].count()[0])\n",
    "print(f'Number of patient ER+/HER2- Low Prolif :%i'  %metadata[metadata['THREEGENE']=='ER+/HER2- Low Prolif'].count()[0])\n",
    "print(f'Number of patient HER2+ :%i'  %metadata[metadata['THREEGENE']=='HER2+'].count()[0])\n",
    "print(f'Number of patient nan :%i'  %metadata[metadata['THREEGENE']=='nan'].count()[0])"
   ]
  },
  {
   "cell_type": "code",
   "execution_count": 53,
   "id": "f94e0b33",
   "metadata": {},
   "outputs": [
    {
     "data": {
      "image/png": "[encoded data removed]",
      "text/plain": [
       "<Figure size 800x500 with 1 Axes>"
      ]
     },
     "metadata": {},
     "output_type": "display_data"
    }
   ],
   "source": [
    "plt.figure(figsize=(8,5), dpi=100)\n",
    "\n",
    "plt.style.use('ggplot')\n",
    "\n",
    "ER = metadata[metadata['THREEGENE']=='ER-/HER2-'].count()[0]\n",
    "ERhigh = metadata[metadata['THREEGENE']=='ER+/HER2- High Prolif'].count()[0]\n",
    "ERlow = metadata[metadata['THREEGENE']=='ER+/HER2- Low Prolif'].count()[0]\n",
    "HER2 = metadata[metadata['THREEGENE']=='HER2+'].count()[0]\n",
    "nan = metadata[metadata['THREEGENE']=='nan'].count()[0]\n",
    "\n",
    "\n",
    "Condition = [ER, ERhigh, ERlow, HER2, nan]\n",
    "label = ['ER', 'ERhigh', 'ERlow', 'HER2', 'nan']\n",
    "explode = (0,0,0,.4,0)\n",
    "\n",
    "plt.title('Pourcentage of number of patient per condition')\n",
    "\n",
    "plt.pie(Condition, labels=label, explode=explode, pctdistance=0.8,autopct='%.2f %%')\n",
    "plt.show()"
   ]
  },
  {
   "cell_type": "code",
   "execution_count": 54,
   "id": "ba69c766",
   "metadata": {},
   "outputs": [
    {
     "name": "stdout",
     "output_type": "stream",
     "text": [
      "Number of patient CHEMOTHERAPY Yes :396\n",
      "Number of patient CHEMOTHERAPY NO :1501\n"
     ]
    }
   ],
   "source": [
    "print(f'Number of patient CHEMOTHERAPY Yes :%i'  %metadata[metadata['CHEMOTHERAPY']=='YES'].count()[0])\n",
    "print(f'Number of patient CHEMOTHERAPY NO :%i'  %metadata[metadata['CHEMOTHERAPY']=='NO'].count()[0])\n"
   ]
  },
  {
   "cell_type": "code",
   "execution_count": 55,
   "id": "1ac1fc58",
   "metadata": {},
   "outputs": [
    {
     "data": {
      "text/html": [
       "<div>\n",
       "<style scoped>\n",
       "    .dataframe tbody tr th:only-of-type {\n",
       "        vertical-align: middle;\n",
       "    }\n",
       "\n",
       "    .dataframe tbody tr th {\n",
       "        vertical-align: top;\n",
       "    }\n",
       "\n",
       "    .dataframe thead th {\n",
       "        text-align: right;\n",
       "    }\n",
       "</style>\n",
       "<table border=\"1\" class=\"dataframe\">\n",
       "  <thead>\n",
       "    <tr style=\"text-align: right;\">\n",
       "      <th></th>\n",
       "      <th>CHEMOTHERAPY</th>\n",
       "    </tr>\n",
       "  </thead>\n",
       "  <tbody>\n",
       "    <tr>\n",
       "      <th>0</th>\n",
       "      <td>NO</td>\n",
       "    </tr>\n",
       "    <tr>\n",
       "      <th>1</th>\n",
       "      <td>NO</td>\n",
       "    </tr>\n",
       "    <tr>\n",
       "      <th>2</th>\n",
       "      <td>YES</td>\n",
       "    </tr>\n",
       "    <tr>\n",
       "      <th>3</th>\n",
       "      <td>YES</td>\n",
       "    </tr>\n",
       "    <tr>\n",
       "      <th>4</th>\n",
       "      <td>YES</td>\n",
       "    </tr>\n",
       "  </tbody>\n",
       "</table>\n",
       "</div>"
      ],
      "text/plain": [
       "  CHEMOTHERAPY\n",
       "0           NO\n",
       "1           NO\n",
       "2          YES\n",
       "3          YES\n",
       "4          YES"
      ]
     },
     "execution_count": 55,
     "metadata": {},
     "output_type": "execute_result"
    }
   ],
   "source": [
    "Outcome = pd.DataFrame(metadata['CHEMOTHERAPY'])\n",
    "Outcome.head()"
   ]
  },
  {
   "cell_type": "code",
   "execution_count": 56,
   "id": "df17e77b",
   "metadata": {},
   "outputs": [
    {
     "data": {
      "text/html": [
       "<div>\n",
       "<style scoped>\n",
       "    .dataframe tbody tr th:only-of-type {\n",
       "        vertical-align: middle;\n",
       "    }\n",
       "\n",
       "    .dataframe tbody tr th {\n",
       "        vertical-align: top;\n",
       "    }\n",
       "\n",
       "    .dataframe thead th {\n",
       "        text-align: right;\n",
       "    }\n",
       "</style>\n",
       "<table border=\"1\" class=\"dataframe\">\n",
       "  <thead>\n",
       "    <tr style=\"text-align: right;\">\n",
       "      <th></th>\n",
       "      <th>CHEMOTHERAPY</th>\n",
       "    </tr>\n",
       "  </thead>\n",
       "  <tbody>\n",
       "    <tr>\n",
       "      <th>0</th>\n",
       "      <td>0</td>\n",
       "    </tr>\n",
       "    <tr>\n",
       "      <th>1</th>\n",
       "      <td>0</td>\n",
       "    </tr>\n",
       "    <tr>\n",
       "      <th>2</th>\n",
       "      <td>1</td>\n",
       "    </tr>\n",
       "    <tr>\n",
       "      <th>3</th>\n",
       "      <td>1</td>\n",
       "    </tr>\n",
       "    <tr>\n",
       "      <th>4</th>\n",
       "      <td>1</td>\n",
       "    </tr>\n",
       "  </tbody>\n",
       "</table>\n",
       "</div>"
      ],
      "text/plain": [
       "   CHEMOTHERAPY\n",
       "0             0\n",
       "1             0\n",
       "2             1\n",
       "3             1\n",
       "4             1"
      ]
     },
     "execution_count": 56,
     "metadata": {},
     "output_type": "execute_result"
    }
   ],
   "source": [
    "Outcome = Outcome.replace(\"YES\",1)\n",
    "Outcome = Outcome.replace(\"NO\",0)\n",
    "Outcome.head()"
   ]
  },
  {
   "cell_type": "code",
   "execution_count": 57,
   "id": "02821fa2",
   "metadata": {},
   "outputs": [
    {
     "name": "stdout",
     "output_type": "stream",
     "text": [
      "Labels counts in Outcome Yes and No respectively: [1501  396]\n"
     ]
    }
   ],
   "source": [
    "print('Labels counts in Outcome Yes and No respectively:', np.bincount(Outcome['CHEMOTHERAPY']))"
   ]
  },
  {
   "cell_type": "markdown",
   "id": "d20b88ad",
   "metadata": {},
   "source": [
    "here we are clearly dealing with class imbalance."
   ]
  },
  {
   "cell_type": "code",
   "execution_count": 58,
   "id": "8a88516f",
   "metadata": {},
   "outputs": [],
   "source": [
    "df.index = metadata['PATIENT_ID']\n",
    "Outcome.index = metadata['PATIENT_ID']"
   ]
  },
  {
   "cell_type": "code",
   "execution_count": 59,
   "id": "902cfae0",
   "metadata": {},
   "outputs": [
    {
     "data": {
      "text/html": [
       "<div>\n",
       "<style scoped>\n",
       "    .dataframe tbody tr th:only-of-type {\n",
       "        vertical-align: middle;\n",
       "    }\n",
       "\n",
       "    .dataframe tbody tr th {\n",
       "        vertical-align: top;\n",
       "    }\n",
       "\n",
       "    .dataframe thead th {\n",
       "        text-align: right;\n",
       "    }\n",
       "</style>\n",
       "<table border=\"1\" class=\"dataframe\">\n",
       "  <thead>\n",
       "    <tr style=\"text-align: right;\">\n",
       "      <th></th>\n",
       "      <th>CHEMOTHERAPY</th>\n",
       "    </tr>\n",
       "    <tr>\n",
       "      <th>PATIENT_ID</th>\n",
       "      <th></th>\n",
       "    </tr>\n",
       "  </thead>\n",
       "  <tbody>\n",
       "    <tr>\n",
       "      <th>MB-0000</th>\n",
       "      <td>0</td>\n",
       "    </tr>\n",
       "    <tr>\n",
       "      <th>MB-0002</th>\n",
       "      <td>0</td>\n",
       "    </tr>\n",
       "    <tr>\n",
       "      <th>MB-0005</th>\n",
       "      <td>1</td>\n",
       "    </tr>\n",
       "    <tr>\n",
       "      <th>MB-0006</th>\n",
       "      <td>1</td>\n",
       "    </tr>\n",
       "    <tr>\n",
       "      <th>MB-0008</th>\n",
       "      <td>1</td>\n",
       "    </tr>\n",
       "  </tbody>\n",
       "</table>\n",
       "</div>"
      ],
      "text/plain": [
       "            CHEMOTHERAPY\n",
       "PATIENT_ID              \n",
       "MB-0000                0\n",
       "MB-0002                0\n",
       "MB-0005                1\n",
       "MB-0006                1\n",
       "MB-0008                1"
      ]
     },
     "execution_count": 59,
     "metadata": {},
     "output_type": "execute_result"
    }
   ],
   "source": [
    "Outcome = Outcome[Outcome.index.isin(df.index)]\n",
    "Outcome.head()"
   ]
  },
  {
   "cell_type": "markdown",
   "id": "70e6508d",
   "metadata": {},
   "source": [
    "### Class imbalance correct using imblearn"
   ]
  },
  {
   "cell_type": "code",
   "execution_count": 60,
   "id": "2ac6b210",
   "metadata": {},
   "outputs": [],
   "source": [
    "#!pip install -U imbalanced-learn\n",
    "from imblearn.over_sampling import RandomOverSampler"
   ]
  },
  {
   "cell_type": "code",
   "execution_count": 61,
   "id": "2c66316c",
   "metadata": {},
   "outputs": [],
   "source": [
    "ros = RandomOverSampler(random_state=0)\n",
    "df_resampled, Outcome_resampled = ros.fit_resample(df, Outcome['CHEMOTHERAPY'])"
   ]
  },
  {
   "cell_type": "code",
   "execution_count": 62,
   "id": "731f69ee",
   "metadata": {},
   "outputs": [
    {
     "name": "stdout",
     "output_type": "stream",
     "text": [
      "[(0, 1501), (1, 1501)]\n"
     ]
    }
   ],
   "source": [
    "from collections import Counter\n",
    "print(sorted(Counter(Outcome_resampled).items()))"
   ]
  },
  {
   "cell_type": "code",
   "execution_count": 63,
   "id": "45592363",
   "metadata": {},
   "outputs": [
    {
     "name": "stdout",
     "output_type": "stream",
     "text": [
      "Labels counts in Outcome are now: [1501 1501]\n"
     ]
    }
   ],
   "source": [
    "print('Labels counts in Outcome are now:', np.bincount(Outcome_resampled))"
   ]
  },
  {
   "cell_type": "markdown",
   "id": "f02e1c33-3fa6-45ab-8ba2-b947cc4d27ad",
   "metadata": {},
   "source": [
    "## Data preparation for deep learning model"
   ]
  },
  {
   "cell_type": "code",
   "execution_count": 64,
   "id": "16a8c7d8",
   "metadata": {},
   "outputs": [],
   "source": [
    "df_resampled = df_resampled.astype('float32')\n",
    "Outcome_resampled = Outcome_resampled.astype('float32')"
   ]
  },
  {
   "cell_type": "code",
   "execution_count": 65,
   "id": "d9c5cf0e",
   "metadata": {},
   "outputs": [],
   "source": [
    "X_train, X_test, Y_train, Y_test = train_test_split(df_resampled, Outcome_resampled,\n",
    "                                                    test_size=0.3, random_state=42, shuffle=True)"
   ]
  },
  {
   "cell_type": "code",
   "execution_count": 66,
   "id": "dda425fb-4cfc-4e9d-9c50-99bc7364adb7",
   "metadata": {},
   "outputs": [
    {
     "name": "stdout",
     "output_type": "stream",
     "text": [
      "X_train.shape = (2101, 295)\n",
      "X_train.dtypes = CD52        float32\n",
      "DARC        float32\n",
      "DCN         float32\n",
      "DB005376    float32\n",
      "TAT         float32\n",
      "             ...   \n",
      "CCL5        float32\n",
      "TFF3        float32\n",
      "CDH3        float32\n",
      "SLC39A6     float32\n",
      "SHISA2      float32\n",
      "Length: 295, dtype: object\n"
     ]
    }
   ],
   "source": [
    "print(f\"X_train.shape = {X_train.shape}\")\n",
    "print(f\"X_train.dtypes = {X_train.dtypes}\")"
   ]
  },
  {
   "cell_type": "code",
   "execution_count": 67,
   "id": "181147c4",
   "metadata": {},
   "outputs": [],
   "source": [
    "x_train, x_val, y_train, y_val = train_test_split(X_train, Y_train, \n",
    "                                                  shuffle=True)"
   ]
  },
  {
   "cell_type": "code",
   "execution_count": 68,
   "id": "66e87efb",
   "metadata": {},
   "outputs": [],
   "source": [
    "scaler  = MinMaxScaler()\n",
    "x_train_scaled = scaler.fit_transform(x_train)\n",
    "x_val_scaled = scaler.transform(x_val)   \n",
    "x_test_scaled = scaler.transform(X_test)"
   ]
  },
  {
   "cell_type": "code",
   "execution_count": 69,
   "id": "f461d058-31b9-41dc-9839-e31debc26a3d",
   "metadata": {},
   "outputs": [
    {
     "name": "stdout",
     "output_type": "stream",
     "text": [
      "x_train_scaled.shape = (1575, 295)\n",
      "x_val_scaled.shape = (526, 295)\n",
      "x_test_scaled.shape = (901, 295)\n"
     ]
    }
   ],
   "source": [
    "print(f\"x_train_scaled.shape = {x_train_scaled.shape}\")\n",
    "print(f\"x_val_scaled.shape = {x_val_scaled.shape}\")\n",
    "print(f\"x_test_scaled.shape = {x_test_scaled.shape}\")"
   ]
  },
  {
   "cell_type": "code",
   "execution_count": 125,
   "id": "a9eb539e",
   "metadata": {},
   "outputs": [
    {
     "data": {
      "text/plain": [
       "array([[1.],\n",
       "       [0.],\n",
       "       [0.],\n",
       "       ...,\n",
       "       [1.],\n",
       "       [1.],\n",
       "       [0.]], dtype=float32)"
      ]
     },
     "execution_count": 125,
     "metadata": {},
     "output_type": "execute_result"
    }
   ],
   "source": [
    "y_train = np.asarray(y_train).astype('float32').reshape((-1,1))\n",
    "y_train"
   ]
  },
  {
   "cell_type": "markdown",
   "id": "23a9b41c",
   "metadata": {},
   "source": [
    "# Model"
   ]
  },
  {
   "cell_type": "code",
   "execution_count": 71,
   "id": "543ae474-cc09-4fb4-9dc8-3df744803e2c",
   "metadata": {},
   "outputs": [],
   "source": [
    "EPOCHS = 50\n",
    "NB_CLASSES = 1   \n",
    "DROPOUT = 0.3"
   ]
  },
  {
   "cell_type": "code",
   "execution_count": 177,
   "id": "4c7807fc",
   "metadata": {},
   "outputs": [],
   "source": [
    "# The model hyperparatmeter was defined with gridSearchCV using scikeras.wrappers, see below at the end of this notebook.\n",
    "model = Sequential()\n",
    "model.add(Dense(20, input_shape=x_train_scaled.shape[1:], activation = 'relu', name='dense_layer'))\n",
    "model.add(Dropout(DROPOUT))\n",
    "model.add(Dense(10, activation = 'relu', name='dense_layer_2',\n",
    "                     kernel_regularizer=regularizers.L1(0.01),\n",
    "                     activity_regularizer=regularizers.L2(0.01)))\n",
    "model.add(Dropout(DROPOUT))\n",
    "model.add(Dense(NB_CLASSES, activation= \"sigmoid\", name='dense_layer_4'))                              "
   ]
  },
  {
   "cell_type": "code",
   "execution_count": 178,
   "id": "9cba0408",
   "metadata": {},
   "outputs": [
    {
     "name": "stdout",
     "output_type": "stream",
     "text": [
      "Model: \"sequential_7\"\n",
      "_________________________________________________________________\n",
      " Layer (type)                Output Shape              Param #   \n",
      "=================================================================\n",
      " dense_layer (Dense)         (None, 20)                5920      \n",
      "                                                                 \n",
      " dropout_14 (Dropout)        (None, 20)                0         \n",
      "                                                                 \n",
      " dense_layer_2 (Dense)       (None, 10)                210       \n",
      "                                                                 \n",
      " dropout_15 (Dropout)        (None, 10)                0         \n",
      "                                                                 \n",
      " dense_layer_4 (Dense)       (None, 1)                 11        \n",
      "                                                                 \n",
      "=================================================================\n",
      "Total params: 6141 (23.99 KB)\n",
      "Trainable params: 6141 (23.99 KB)\n",
      "Non-trainable params: 0 (0.00 Byte)\n",
      "_________________________________________________________________\n"
     ]
    }
   ],
   "source": [
    "model.summary()"
   ]
  },
  {
   "cell_type": "code",
   "execution_count": 179,
   "id": "b4e2896f-39ae-4c64-ada9-d20b42c40bbd",
   "metadata": {},
   "outputs": [
    {
     "data": {
      "image/png": "[encoded data removed]",
      "text/plain": [
       "<IPython.core.display.Image object>"
      ]
     },
     "execution_count": 179,
     "metadata": {},
     "output_type": "execute_result"
    }
   ],
   "source": [
    "keras.utils.plot_model(model, show_shapes=True)"
   ]
  },
  {
   "cell_type": "code",
   "execution_count": 180,
   "id": "a9070e50-da1a-4c2a-b423-74d5e825140e",
   "metadata": {},
   "outputs": [],
   "source": [
    "early_stopping = EarlyStopping(\n",
    "    patience  = 10,     # how many epochs to wait before stopping\n",
    "    restore_best_weights=True,\n",
    ")"
   ]
  },
  {
   "cell_type": "code",
   "execution_count": 181,
   "id": "caebfcc8",
   "metadata": {},
   "outputs": [
    {
     "name": "stderr",
     "output_type": "stream",
     "text": [
      "WARNING:absl:At this time, the v2.11+ optimizer `tf.keras.optimizers.Adam` runs slowly on M1/M2 Macs, please use the legacy Keras optimizer instead, located at `tf.keras.optimizers.legacy.Adam`.\n",
      "WARNING:absl:There is a known slowdown when using v2.11+ Keras optimizers on M1/M2 Macs. Falling back to the legacy Keras optimizer, i.e., `tf.keras.optimizers.legacy.Adam`.\n"
     ]
    }
   ],
   "source": [
    "model.compile(loss=\"binary_crossentropy\", optimizer=tf.keras.optimizers.Adam(), metrics=[\"accuracy\"])"
   ]
  },
  {
   "cell_type": "code",
   "execution_count": 182,
   "id": "24eaa9ae",
   "metadata": {},
   "outputs": [
    {
     "name": "stdout",
     "output_type": "stream",
     "text": [
      "Epoch 1/50\n",
      " 1/50 [..............................] - ETA: 16s - loss: 1.8349 - accuracy: 0.3438"
     ]
    },
    {
     "name": "stderr",
     "output_type": "stream",
     "text": [
      "2024-02-21 13:24:19.384159: I tensorflow/core/grappler/optimizers/custom_graph_optimizer_registry.cc:114] Plugin optimizer for device_type GPU is enabled.\n"
     ]
    },
    {
     "name": "stdout",
     "output_type": "stream",
     "text": [
      "50/50 [==============================] - 1s 15ms/step - loss: 1.3913 - accuracy: 0.5213 - val_loss: 1.0835 - val_accuracy: 0.6939\n",
      "Epoch 2/50\n"
     ]
    },
    {
     "name": "stderr",
     "output_type": "stream",
     "text": [
      "2024-02-21 13:24:20.105497: I tensorflow/core/grappler/optimizers/custom_graph_optimizer_registry.cc:114] Plugin optimizer for device_type GPU is enabled.\n"
     ]
    },
    {
     "name": "stdout",
     "output_type": "stream",
     "text": [
      "50/50 [==============================] - 1s 11ms/step - loss: 1.2134 - accuracy: 0.6070 - val_loss: 1.0067 - val_accuracy: 0.7281\n",
      "Epoch 3/50\n",
      "50/50 [==============================] - 1s 10ms/step - loss: 1.1318 - accuracy: 0.6438 - val_loss: 0.9373 - val_accuracy: 0.7414\n",
      "Epoch 4/50\n",
      "50/50 [==============================] - 1s 10ms/step - loss: 1.0318 - accuracy: 0.6838 - val_loss: 0.8786 - val_accuracy: 0.7452\n",
      "Epoch 5/50\n",
      "50/50 [==============================] - 1s 10ms/step - loss: 0.9836 - accuracy: 0.6863 - val_loss: 0.8317 - val_accuracy: 0.7548\n",
      "Epoch 6/50\n",
      "50/50 [==============================] - 1s 11ms/step - loss: 0.8729 - accuracy: 0.7257 - val_loss: 0.7855 - val_accuracy: 0.7605\n",
      "Epoch 7/50\n",
      "50/50 [==============================] - 1s 11ms/step - loss: 0.8293 - accuracy: 0.7149 - val_loss: 0.7438 - val_accuracy: 0.7624\n",
      "Epoch 8/50\n",
      "50/50 [==============================] - 1s 10ms/step - loss: 0.7853 - accuracy: 0.7422 - val_loss: 0.7088 - val_accuracy: 0.7624\n",
      "Epoch 9/50\n",
      "50/50 [==============================] - 1s 11ms/step - loss: 0.7416 - accuracy: 0.7416 - val_loss: 0.6783 - val_accuracy: 0.7624\n",
      "Epoch 10/50\n",
      "50/50 [==============================] - 1s 10ms/step - loss: 0.7064 - accuracy: 0.7460 - val_loss: 0.6627 - val_accuracy: 0.7529\n",
      "Epoch 11/50\n",
      "50/50 [==============================] - 1s 10ms/step - loss: 0.6734 - accuracy: 0.7543 - val_loss: 0.6347 - val_accuracy: 0.7643\n",
      "Epoch 12/50\n",
      "50/50 [==============================] - 1s 10ms/step - loss: 0.6524 - accuracy: 0.7581 - val_loss: 0.6396 - val_accuracy: 0.7376\n",
      "Epoch 13/50\n",
      "50/50 [==============================] - 1s 10ms/step - loss: 0.6322 - accuracy: 0.7606 - val_loss: 0.6078 - val_accuracy: 0.7662\n",
      "Epoch 14/50\n",
      "50/50 [==============================] - 1s 10ms/step - loss: 0.6250 - accuracy: 0.7638 - val_loss: 0.5963 - val_accuracy: 0.7852\n",
      "Epoch 15/50\n",
      "50/50 [==============================] - 1s 10ms/step - loss: 0.6061 - accuracy: 0.7600 - val_loss: 0.5883 - val_accuracy: 0.7738\n",
      "Epoch 16/50\n",
      "50/50 [==============================] - 1s 10ms/step - loss: 0.5981 - accuracy: 0.7790 - val_loss: 0.5958 - val_accuracy: 0.7471\n",
      "Epoch 17/50\n",
      "50/50 [==============================] - 1s 10ms/step - loss: 0.5931 - accuracy: 0.7695 - val_loss: 0.5864 - val_accuracy: 0.7529\n",
      "Epoch 18/50\n",
      "50/50 [==============================] - 1s 10ms/step - loss: 0.5850 - accuracy: 0.7683 - val_loss: 0.5733 - val_accuracy: 0.7776\n",
      "Epoch 19/50\n",
      "50/50 [==============================] - 1s 10ms/step - loss: 0.5831 - accuracy: 0.7708 - val_loss: 0.5731 - val_accuracy: 0.7605\n",
      "Epoch 20/50\n",
      "50/50 [==============================] - 1s 10ms/step - loss: 0.5710 - accuracy: 0.7778 - val_loss: 0.5601 - val_accuracy: 0.8004\n",
      "Epoch 21/50\n",
      "50/50 [==============================] - 1s 10ms/step - loss: 0.5670 - accuracy: 0.7746 - val_loss: 0.5532 - val_accuracy: 0.7795\n",
      "Epoch 22/50\n",
      "50/50 [==============================] - 1s 10ms/step - loss: 0.5594 - accuracy: 0.7854 - val_loss: 0.5508 - val_accuracy: 0.7909\n",
      "Epoch 23/50\n",
      "50/50 [==============================] - 1s 10ms/step - loss: 0.5434 - accuracy: 0.7898 - val_loss: 0.5430 - val_accuracy: 0.8023\n",
      "Epoch 24/50\n",
      "50/50 [==============================] - 1s 10ms/step - loss: 0.5484 - accuracy: 0.7714 - val_loss: 0.5388 - val_accuracy: 0.7928\n",
      "Epoch 25/50\n",
      "50/50 [==============================] - 1s 10ms/step - loss: 0.5373 - accuracy: 0.7835 - val_loss: 0.5358 - val_accuracy: 0.7909\n",
      "Epoch 26/50\n",
      "50/50 [==============================] - 1s 10ms/step - loss: 0.5299 - accuracy: 0.7867 - val_loss: 0.5334 - val_accuracy: 0.7985\n",
      "Epoch 27/50\n",
      "50/50 [==============================] - 1s 10ms/step - loss: 0.5288 - accuracy: 0.8006 - val_loss: 0.5296 - val_accuracy: 0.8004\n",
      "Epoch 28/50\n",
      "50/50 [==============================] - 1s 11ms/step - loss: 0.5275 - accuracy: 0.8038 - val_loss: 0.5288 - val_accuracy: 0.8042\n",
      "Epoch 29/50\n",
      "50/50 [==============================] - 1s 11ms/step - loss: 0.5140 - accuracy: 0.8070 - val_loss: 0.5283 - val_accuracy: 0.7985\n",
      "Epoch 30/50\n",
      "50/50 [==============================] - 1s 10ms/step - loss: 0.5121 - accuracy: 0.8083 - val_loss: 0.5249 - val_accuracy: 0.8061\n",
      "Epoch 31/50\n",
      "50/50 [==============================] - 1s 11ms/step - loss: 0.5249 - accuracy: 0.7873 - val_loss: 0.5189 - val_accuracy: 0.8080\n",
      "Epoch 32/50\n",
      "50/50 [==============================] - 1s 11ms/step - loss: 0.5142 - accuracy: 0.8063 - val_loss: 0.5157 - val_accuracy: 0.8118\n",
      "Epoch 33/50\n",
      "50/50 [==============================] - 1s 10ms/step - loss: 0.4996 - accuracy: 0.8140 - val_loss: 0.5171 - val_accuracy: 0.8156\n",
      "Epoch 34/50\n",
      "50/50 [==============================] - 1s 11ms/step - loss: 0.5088 - accuracy: 0.8038 - val_loss: 0.5152 - val_accuracy: 0.8137\n",
      "Epoch 35/50\n",
      "50/50 [==============================] - 1s 11ms/step - loss: 0.5053 - accuracy: 0.8076 - val_loss: 0.5087 - val_accuracy: 0.8194\n",
      "Epoch 36/50\n",
      "50/50 [==============================] - 1s 11ms/step - loss: 0.4938 - accuracy: 0.8159 - val_loss: 0.5094 - val_accuracy: 0.8137\n",
      "Epoch 37/50\n",
      "50/50 [==============================] - 1s 12ms/step - loss: 0.4895 - accuracy: 0.8159 - val_loss: 0.5018 - val_accuracy: 0.8194\n",
      "Epoch 38/50\n",
      "50/50 [==============================] - 1s 12ms/step - loss: 0.4831 - accuracy: 0.8184 - val_loss: 0.5098 - val_accuracy: 0.8080\n",
      "Epoch 39/50\n",
      "50/50 [==============================] - 1s 10ms/step - loss: 0.4847 - accuracy: 0.8248 - val_loss: 0.5049 - val_accuracy: 0.8270\n",
      "Epoch 40/50\n",
      "50/50 [==============================] - 1s 10ms/step - loss: 0.4944 - accuracy: 0.8165 - val_loss: 0.4978 - val_accuracy: 0.8194\n",
      "Epoch 41/50\n",
      "50/50 [==============================] - 1s 11ms/step - loss: 0.4819 - accuracy: 0.8260 - val_loss: 0.4957 - val_accuracy: 0.8137\n",
      "Epoch 42/50\n",
      "50/50 [==============================] - 1s 11ms/step - loss: 0.4716 - accuracy: 0.8140 - val_loss: 0.4952 - val_accuracy: 0.8213\n",
      "Epoch 43/50\n",
      "50/50 [==============================] - 1s 10ms/step - loss: 0.4745 - accuracy: 0.8317 - val_loss: 0.4968 - val_accuracy: 0.8156\n",
      "Epoch 44/50\n",
      "50/50 [==============================] - 1s 10ms/step - loss: 0.4653 - accuracy: 0.8356 - val_loss: 0.4997 - val_accuracy: 0.8175\n",
      "Epoch 45/50\n",
      "50/50 [==============================] - 1s 10ms/step - loss: 0.4777 - accuracy: 0.8324 - val_loss: 0.4920 - val_accuracy: 0.8156\n",
      "Epoch 46/50\n",
      "50/50 [==============================] - 1s 10ms/step - loss: 0.4689 - accuracy: 0.8279 - val_loss: 0.4885 - val_accuracy: 0.8194\n",
      "Epoch 47/50\n",
      "50/50 [==============================] - 1s 10ms/step - loss: 0.4715 - accuracy: 0.8190 - val_loss: 0.5085 - val_accuracy: 0.8023\n",
      "Epoch 48/50\n",
      "50/50 [==============================] - 1s 11ms/step - loss: 0.4647 - accuracy: 0.8286 - val_loss: 0.4928 - val_accuracy: 0.8137\n",
      "Epoch 49/50\n",
      "50/50 [==============================] - 1s 10ms/step - loss: 0.4521 - accuracy: 0.8400 - val_loss: 0.4929 - val_accuracy: 0.8137\n",
      "Epoch 50/50\n",
      "50/50 [==============================] - 1s 10ms/step - loss: 0.4719 - accuracy: 0.8254 - val_loss: 0.4839 - val_accuracy: 0.8232\n"
     ]
    }
   ],
   "source": [
    "#training the moodel\n",
    "results = model.fit(x_train_scaled, y_train, epochs=EPOCHS, \n",
    "                    verbose=1, callbacks=[early_stopping],\n",
    "                   validation_data=(x_val_scaled, y_val))"
   ]
  },
  {
   "cell_type": "code",
   "execution_count": 183,
   "id": "cbaa8c24",
   "metadata": {},
   "outputs": [
    {
     "data": {
      "image/png": "[encoded data removed]",
      "text/plain": [
       "<Figure size 800x500 with 1 Axes>"
      ]
     },
     "metadata": {},
     "output_type": "display_data"
    }
   ],
   "source": [
    "pd.DataFrame(results.history).plot(figsize=(8, 5))\n",
    "plt.grid(True)\n",
    "plt.gca().set_ylim(0, 1)\n",
    "plt.show()"
   ]
  },
  {
   "cell_type": "code",
   "execution_count": 184,
   "id": "b5d12e66-df1d-410e-9b23-0c3a706f3bfd",
   "metadata": {},
   "outputs": [
    {
     "name": "stdout",
     "output_type": "stream",
     "text": [
      "29/29 [==============================] - 0s 10ms/step - loss: 0.4760 - accuracy: 0.8113\n",
      "Test accuracy: 0.8113207817077637\n"
     ]
    }
   ],
   "source": [
    "#evalute the model\n",
    "test_loss, test_acc = model.evaluate(x_test_scaled, Y_test)\n",
    "print('Test accuracy:', test_acc)"
   ]
  },
  {
   "cell_type": "code",
   "execution_count": 185,
   "id": "bd8a8ae3-55cd-4acb-9895-552ba2d958e0",
   "metadata": {},
   "outputs": [
    {
     "name": "stdout",
     "output_type": "stream",
     "text": [
      "29/29 [==============================] - 0s 2ms/step\n"
     ]
    },
    {
     "name": "stderr",
     "output_type": "stream",
     "text": [
      "2024-02-21 13:24:46.547168: I tensorflow/core/grappler/optimizers/custom_graph_optimizer_registry.cc:114] Plugin optimizer for device_type GPU is enabled.\n"
     ]
    }
   ],
   "source": [
    "# making prediction\n",
    "predictions = model.predict(X_test)"
   ]
  },
  {
   "cell_type": "code",
   "execution_count": 186,
   "id": "534c5f16-a448-4fb2-8ad1-042920963e45",
   "metadata": {},
   "outputs": [
    {
     "data": {
      "text/plain": [
       "<sklearn.metrics._plot.confusion_matrix.ConfusionMatrixDisplay at 0x3363f3580>"
      ]
     },
     "execution_count": 186,
     "metadata": {},
     "output_type": "execute_result"
    },
    {
     "data": {
      "image/png": "[encoded data removed]",
      "text/plain": [
       "<Figure size 640x480 with 2 Axes>"
      ]
     },
     "metadata": {},
     "output_type": "display_data"
    }
   ],
   "source": [
    "predicted = tf.squeeze(predictions)\n",
    "predicted = np.array([1 if x >= 0.5 else 0 for x in predicted])\n",
    "actual = np.array(Y_test)\n",
    "conf_mat = confusion_matrix(actual, predicted)\n",
    "displ = ConfusionMatrixDisplay(confusion_matrix=conf_mat)\n",
    "displ.plot()"
   ]
  },
  {
   "cell_type": "markdown",
   "id": "6b10c1a7-538d-4abf-ae3c-e46ef872219f",
   "metadata": {},
   "source": [
    "# Explainability "
   ]
  },
  {
   "cell_type": "markdown",
   "id": "7d99dfc7-d271-4b1e-8974-e78ccb2680ef",
   "metadata": {},
   "source": [
    "## Explain tensorflow keras model with shap DeepExplainer"
   ]
  },
  {
   "cell_type": "code",
   "execution_count": 187,
   "id": "5e807ac3-11b8-4713-87c4-70d379861c39",
   "metadata": {},
   "outputs": [
    {
     "name": "stderr",
     "output_type": "stream",
     "text": [
      "Your TensorFlow version is newer than 2.4.0 and so graph support has been removed in eager mode and some static graphs may not be supported. See PR #1483 for discussion.\n"
     ]
    }
   ],
   "source": [
    "sample_size=500\n",
    "if sample_size>len(X_train.values):\n",
    "  sample_size=len(X_train.values)\n",
    "\n",
    "explainer = shap.DeepExplainer(model, X_train.values[:sample_size], y_train)"
   ]
  },
  {
   "cell_type": "code",
   "execution_count": 188,
   "id": "2dd27a9c-9382-4c09-b3dd-284aca48ba74",
   "metadata": {},
   "outputs": [
    {
     "name": "stderr",
     "output_type": "stream",
     "text": [
      "`tf.keras.backend.set_learning_phase` is deprecated and will be removed after 2020-10-11. To update it, simply pass a True/False value to the `training` argument of the `__call__` method of your layer or model.\n",
      "2024-02-21 13:26:40.355386: I tensorflow/core/grappler/optimizers/custom_graph_optimizer_registry.cc:114] Plugin optimizer for device_type GPU is enabled.\n"
     ]
    }
   ],
   "source": [
    "# Explain the SHAP values for the whole dataset\n",
    "# to test the SHAP explainer.\n",
    "shap_values = explainer.shap_values(X_train.values[:sample_size], ranked_outputs=None)"
   ]
  },
  {
   "cell_type": "code",
   "execution_count": 189,
   "id": "0f38f80a-89ba-41cb-9d71-ee663fcf11f0",
   "metadata": {},
   "outputs": [
    {
     "data": {
      "text/plain": [
       "[array([[-6.13931217e-04,  5.79104235e-04,  1.21821380e-04, ...,\n",
       "          3.32532691e-05,  5.89004019e-04,  2.54693348e-03],\n",
       "        [ 1.22798362e-03,  1.75002951e-03, -6.65651402e-04, ...,\n",
       "          9.90149798e-04,  1.52458099e-03,  1.27402262e-03],\n",
       "        [ 2.40881299e-03, -6.52628345e-03,  9.89748398e-04, ...,\n",
       "         -9.38840210e-04, -2.61786184e-03, -5.97110670e-03],\n",
       "        ...,\n",
       "        [ 4.05412196e-04,  1.70486758e-03, -2.36380190e-04, ...,\n",
       "          3.85903375e-04, -2.11221166e-03,  2.30341917e-03],\n",
       "        [ 7.42328644e-04,  7.09563727e-04,  1.07669597e-03, ...,\n",
       "         -4.93239932e-05,  9.01810999e-04, -3.41807390e-05],\n",
       "        [-1.20005244e-03,  1.12299132e-03, -7.52978318e-04, ...,\n",
       "          2.85379556e-05,  7.02320656e-04,  9.09106282e-04]])]"
      ]
     },
     "execution_count": 189,
     "metadata": {},
     "output_type": "execute_result"
    }
   ],
   "source": [
    "shap_values"
   ]
  },
  {
   "cell_type": "code",
   "execution_count": 190,
   "id": "28284e2c-662b-4791-b9d8-dfa9644f0b8b",
   "metadata": {},
   "outputs": [
    {
     "name": "stdout",
     "output_type": "stream",
     "text": [
      " The shap values length is egal to the number of the model's output: 1\n"
     ]
    }
   ],
   "source": [
    "print(\" The shap values length is egal to the number of the model's output:\", len(shap_values))"
   ]
  },
  {
   "cell_type": "code",
   "execution_count": 191,
   "id": "66e4a2c7-bc1b-4411-a082-859380d313a8",
   "metadata": {},
   "outputs": [],
   "source": [
    "# #shap_values \n",
    "# shap.initjs()\n",
    "# shap.force_plot(explainer.expected_value[0].numpy(), shap_values[0], X_train, link=\"logit\")"
   ]
  },
  {
   "cell_type": "code",
   "execution_count": 192,
   "id": "e88173ca-747e-4a32-8d94-41afb57bef81",
   "metadata": {},
   "outputs": [],
   "source": [
    "def get_fetaure_importnace(shap_values, features, num=0):\n",
    "    \"Features is the  X_train.columns names\"\n",
    "    vals = np.abs(pd.DataFrame(shap_values[num]).values).mean(0)\n",
    "    shap_importance = pd.DataFrame(list(zip(features, vals)), columns=['col_name', 'feature_importance_vals'])\n",
    "    shap_importance.sort_values(by=['feature_importance_vals'], ascending=False, inplace=True)\n",
    "    shap_importance.loc[shap_importance['feature_importance_vals']>0]\n",
    "    return shap_importance"
   ]
  },
  {
   "cell_type": "code",
   "execution_count": 193,
   "id": "16ecb166-2221-4ac0-9099-859821b39fe6",
   "metadata": {},
   "outputs": [
    {
     "data": {
      "text/html": [
       "<div>\n",
       "<style scoped>\n",
       "    .dataframe tbody tr th:only-of-type {\n",
       "        vertical-align: middle;\n",
       "    }\n",
       "\n",
       "    .dataframe tbody tr th {\n",
       "        vertical-align: top;\n",
       "    }\n",
       "\n",
       "    .dataframe thead th {\n",
       "        text-align: right;\n",
       "    }\n",
       "</style>\n",
       "<table border=\"1\" class=\"dataframe\">\n",
       "  <thead>\n",
       "    <tr style=\"text-align: right;\">\n",
       "      <th></th>\n",
       "      <th>col_name</th>\n",
       "      <th>feature_importance_vals</th>\n",
       "    </tr>\n",
       "  </thead>\n",
       "  <tbody>\n",
       "    <tr>\n",
       "      <th>131</th>\n",
       "      <td>ESR1</td>\n",
       "      <td>0.010920</td>\n",
       "    </tr>\n",
       "    <tr>\n",
       "      <th>279</th>\n",
       "      <td>FOSB</td>\n",
       "      <td>0.007193</td>\n",
       "    </tr>\n",
       "    <tr>\n",
       "      <th>280</th>\n",
       "      <td>CLEC3A</td>\n",
       "      <td>0.006748</td>\n",
       "    </tr>\n",
       "    <tr>\n",
       "      <th>245</th>\n",
       "      <td>BEX1</td>\n",
       "      <td>0.006334</td>\n",
       "    </tr>\n",
       "    <tr>\n",
       "      <th>110</th>\n",
       "      <td>IGJ</td>\n",
       "      <td>0.005912</td>\n",
       "    </tr>\n",
       "    <tr>\n",
       "      <th>...</th>\n",
       "      <td>...</td>\n",
       "      <td>...</td>\n",
       "    </tr>\n",
       "    <tr>\n",
       "      <th>156</th>\n",
       "      <td>RPL14</td>\n",
       "      <td>0.000166</td>\n",
       "    </tr>\n",
       "    <tr>\n",
       "      <th>212</th>\n",
       "      <td>PRODH</td>\n",
       "      <td>0.000164</td>\n",
       "    </tr>\n",
       "    <tr>\n",
       "      <th>125</th>\n",
       "      <td>TGFBR3</td>\n",
       "      <td>0.000143</td>\n",
       "    </tr>\n",
       "    <tr>\n",
       "      <th>220</th>\n",
       "      <td>IRX2</td>\n",
       "      <td>0.000127</td>\n",
       "    </tr>\n",
       "    <tr>\n",
       "      <th>158</th>\n",
       "      <td>CD79A</td>\n",
       "      <td>0.000042</td>\n",
       "    </tr>\n",
       "  </tbody>\n",
       "</table>\n",
       "<p>295 rows × 2 columns</p>\n",
       "</div>"
      ],
      "text/plain": [
       "    col_name  feature_importance_vals\n",
       "131     ESR1                 0.010920\n",
       "279     FOSB                 0.007193\n",
       "280   CLEC3A                 0.006748\n",
       "245     BEX1                 0.006334\n",
       "110      IGJ                 0.005912\n",
       "..       ...                      ...\n",
       "156    RPL14                 0.000166\n",
       "212    PRODH                 0.000164\n",
       "125   TGFBR3                 0.000143\n",
       "220     IRX2                 0.000127\n",
       "158    CD79A                 0.000042\n",
       "\n",
       "[295 rows x 2 columns]"
      ]
     },
     "execution_count": 193,
     "metadata": {},
     "output_type": "execute_result"
    }
   ],
   "source": [
    "shap_importance = get_fetaure_importnace(shap_values, features=X_train.columns, num=0)\n",
    "shap_importance"
   ]
  },
  {
   "cell_type": "code",
   "execution_count": 204,
   "id": "41c6efe2-f29d-4829-84d1-f0e9b4ab3f21",
   "metadata": {},
   "outputs": [],
   "source": [
    "def plot_importance_features(Features, top=10, title=\" \"):\n",
    "    \n",
    "    \" Features are a 2 colunms dataframe with features names and weights\"\n",
    "    \n",
    "    fig, ax = plt.subplots(figsize =(5, 5))\n",
    "    top_features = Features.iloc[:top]\n",
    "    # Horizontal Bar Plot\n",
    "    ax.barh(top_features['col_name'], top_features['feature_importance_vals'])\n",
    "    ax.set_yticks(top_features['col_name'])\n",
    "    ax.invert_yaxis()  # labels read top-to-bottom\n",
    "    ax.set_xlabel('Importance')\n",
    "    ax.set_title(title)\n",
    "    plot = plt.show()\n",
    "    return plot"
   ]
  },
  {
   "cell_type": "code",
   "execution_count": 195,
   "id": "c6fb3587-5339-48a8-bf6e-20209d2da352",
   "metadata": {},
   "outputs": [
    {
     "data": {
      "image/png": "[encoded data removed]",
      "text/plain": [
       "<Figure size 500x500 with 1 Axes>"
      ]
     },
     "metadata": {},
     "output_type": "display_data"
    }
   ],
   "source": [
    "plot_importance_features(Features=shap_importance, top=10, title=\"Shap importance features\")"
   ]
  },
  {
   "cell_type": "code",
   "execution_count": 196,
   "id": "def5d4d1-c1ea-44dc-97d9-a1ba1a475df2",
   "metadata": {},
   "outputs": [
    {
     "data": {
      "image/png": "[encoded data removed]",
      "text/plain": [
       "<Figure size 800x550 with 1 Axes>"
      ]
     },
     "metadata": {},
     "output_type": "display_data"
    }
   ],
   "source": [
    "# visualize the first prediction's explanation (use matplotlib=True to avoid Javascript)\n",
    "shap.summary_plot(shap_values[0], X_test, plot_type=\"bar\", max_display=10)"
   ]
  },
  {
   "cell_type": "code",
   "execution_count": 197,
   "id": "cf4d05e6-4b95-48ed-9de7-e196c935d2c2",
   "metadata": {},
   "outputs": [
    {
     "data": {
      "image/png": "[encoded data removed]",
      "text/plain": [
       "<Figure size 800x550 with 2 Axes>"
      ]
     },
     "metadata": {},
     "output_type": "display_data"
    }
   ],
   "source": [
    "shap.summary_plot(shap_values[0], features=X_train.values[:sample_size], feature_names=X_train.columns, show=False, plot_type=\"dot\", max_display=10)"
   ]
  },
  {
   "cell_type": "markdown",
   "id": "e538840c-fe6f-48ae-b9fc-4abe4c2bcc46",
   "metadata": {},
   "source": [
    "## Explain tensorflow keras model with weights"
   ]
  },
  {
   "cell_type": "code",
   "execution_count": 198,
   "id": "4166c23b-06f5-42e0-a57e-7f6039197601",
   "metadata": {},
   "outputs": [],
   "source": [
    "def get_weights_importnace(model, features, num=0):\n",
    "    \"Features are the  X_train.columns names\"\n",
    "    vals_weights = np.abs(model.layers[num].get_weights()[0].T).mean(0)\n",
    "    weights_importance = pd.DataFrame(list(zip(features, vals_weights)), columns=['col_name', 'feature_importance_vals'])\n",
    "    weights_importance.sort_values(by=['feature_importance_vals'], ascending=False, inplace=True)\n",
    "    weights_importance.loc[weights_importance['feature_importance_vals']>0] \n",
    "    return weights_importance"
   ]
  },
  {
   "cell_type": "code",
   "execution_count": 199,
   "id": "d672d797-a68b-4f85-bed6-7d709574b2f6",
   "metadata": {},
   "outputs": [
    {
     "data": {
      "text/html": [
       "<div>\n",
       "<style scoped>\n",
       "    .dataframe tbody tr th:only-of-type {\n",
       "        vertical-align: middle;\n",
       "    }\n",
       "\n",
       "    .dataframe tbody tr th {\n",
       "        vertical-align: top;\n",
       "    }\n",
       "\n",
       "    .dataframe thead th {\n",
       "        text-align: right;\n",
       "    }\n",
       "</style>\n",
       "<table border=\"1\" class=\"dataframe\">\n",
       "  <thead>\n",
       "    <tr style=\"text-align: right;\">\n",
       "      <th></th>\n",
       "      <th>col_name</th>\n",
       "      <th>feature_importance_vals</th>\n",
       "    </tr>\n",
       "  </thead>\n",
       "  <tbody>\n",
       "    <tr>\n",
       "      <th>131</th>\n",
       "      <td>ESR1</td>\n",
       "      <td>0.156979</td>\n",
       "    </tr>\n",
       "    <tr>\n",
       "      <th>228</th>\n",
       "      <td>GRIA2</td>\n",
       "      <td>0.142732</td>\n",
       "    </tr>\n",
       "    <tr>\n",
       "      <th>271</th>\n",
       "      <td>FABP7</td>\n",
       "      <td>0.133380</td>\n",
       "    </tr>\n",
       "    <tr>\n",
       "      <th>124</th>\n",
       "      <td>NTN4</td>\n",
       "      <td>0.129271</td>\n",
       "    </tr>\n",
       "    <tr>\n",
       "      <th>70</th>\n",
       "      <td>HOXB5</td>\n",
       "      <td>0.127729</td>\n",
       "    </tr>\n",
       "    <tr>\n",
       "      <th>...</th>\n",
       "      <td>...</td>\n",
       "      <td>...</td>\n",
       "    </tr>\n",
       "    <tr>\n",
       "      <th>146</th>\n",
       "      <td>KRT7</td>\n",
       "      <td>0.049167</td>\n",
       "    </tr>\n",
       "    <tr>\n",
       "      <th>115</th>\n",
       "      <td>MFAP4</td>\n",
       "      <td>0.048581</td>\n",
       "    </tr>\n",
       "    <tr>\n",
       "      <th>34</th>\n",
       "      <td>C19orf33</td>\n",
       "      <td>0.046389</td>\n",
       "    </tr>\n",
       "    <tr>\n",
       "      <th>208</th>\n",
       "      <td>TPSAB1</td>\n",
       "      <td>0.046116</td>\n",
       "    </tr>\n",
       "    <tr>\n",
       "      <th>174</th>\n",
       "      <td>ZG16B</td>\n",
       "      <td>0.043745</td>\n",
       "    </tr>\n",
       "  </tbody>\n",
       "</table>\n",
       "<p>295 rows × 2 columns</p>\n",
       "</div>"
      ],
      "text/plain": [
       "     col_name  feature_importance_vals\n",
       "131      ESR1                 0.156979\n",
       "228     GRIA2                 0.142732\n",
       "271     FABP7                 0.133380\n",
       "124      NTN4                 0.129271\n",
       "70      HOXB5                 0.127729\n",
       "..        ...                      ...\n",
       "146      KRT7                 0.049167\n",
       "115     MFAP4                 0.048581\n",
       "34   C19orf33                 0.046389\n",
       "208    TPSAB1                 0.046116\n",
       "174     ZG16B                 0.043745\n",
       "\n",
       "[295 rows x 2 columns]"
      ]
     },
     "execution_count": 199,
     "metadata": {},
     "output_type": "execute_result"
    }
   ],
   "source": [
    "weights_importance =  get_weights_importnace(model, features= X_train.columns)\n",
    "weights_importance"
   ]
  },
  {
   "cell_type": "code",
   "execution_count": 209,
   "id": "b0ace3b0-f211-4cc1-aeed-b137f44daa83",
   "metadata": {},
   "outputs": [
    {
     "data": {
      "image/png": "[encoded data removed]",
      "text/plain": [
       "<Figure size 500x500 with 1 Axes>"
      ]
     },
     "metadata": {},
     "output_type": "display_data"
    }
   ],
   "source": [
    "plot_importance_features(Features=weights_importance, top=10, title=\"Weights importance features\")"
   ]
  },
  {
   "cell_type": "markdown",
   "id": "e4399013-475c-4873-96dd-38f91da32a9c",
   "metadata": {},
   "source": [
    "# Hyperparameter tunning with GridSearchCV using scikeras.wrappers"
   ]
  },
  {
   "cell_type": "code",
   "execution_count": 116,
   "id": "ceb10404",
   "metadata": {},
   "outputs": [],
   "source": [
    "\n",
    "def get_model(nb_hidden, nb_neurons):\n",
    "    print(f\"##  {nb_hidden}-{nb_neurons}   ##\")\n",
    "    model = keras.models.Sequential()\n",
    "    model.add(Dense(64, input_shape=x_train_scaled.shape[1:], activation = 'relu', name='dense_layer'))\n",
    "    model.add(keras.layers.Dense(2 * nb_neurons, activation=\"relu\"))    \n",
    "    if nb_hidden > 1 :\n",
    "        for layer in range(2, nb_hidden):\n",
    "            model.add(keras.layers.Dense(nb_neurons, activation=\"relu\"))\n",
    "    model.add(keras.layers.Dense(1, activation=\"sigmoid\" ))\n",
    "\n",
    "    model.compile(loss=\"binary_crossentropy\", optimizer=\"adam\", metrics=[\"accuracy\"])\n",
    "\n",
    "    return model\n"
   ]
  },
  {
   "cell_type": "code",
   "execution_count": 114,
   "id": "b9a6028a-b196-4ab7-8bfe-b6848baaf6a4",
   "metadata": {},
   "outputs": [],
   "source": [
    "#!pip install scikeras\n",
    "from scikeras.wrappers import KerasClassifier "
   ]
  },
  {
   "cell_type": "code",
   "execution_count": 168,
   "id": "07d6f119-b282-4ad6-bba0-f05a8fda7c5c",
   "metadata": {},
   "outputs": [],
   "source": [
    "keras_classifier = KerasClassifier(get_model, nb_hidden=1, nb_neurons=1)\n",
    "\n",
    "\n",
    "param_distribs = {\n",
    "\"nb_hidden\": [1,2,3,6,8],\n",
    "\"nb_neurons\": [3,5,8,10],\n",
    "}\n",
    "\n",
    "\n",
    "\n",
    "early_stopping = keras.callbacks.EarlyStopping(patience=10, restore_best_weights=True)\n",
    "\n",
    "search_cv = GridSearchCV(keras_classifier, param_distribs,  cv=2 )\n",
    "search_cv.fit(x_train_scaled, y_train, epochs=20,  callbacks=[early_stopping], validation_data=[x_val_scaled, y_val],  )\n",
    "\n",
    "print(f\"search_cv.best_params_ = {search_cv.best_params_}\")\n",
    "\n",
    "print(f\"search_cv.best_score_ = {search_cv.best_score_}\") "
   ]
  },
  {
   "cell_type": "code",
   "execution_count": 169,
   "id": "43eb6a14-a448-40fd-be5c-44d61516f5a1",
   "metadata": {},
   "outputs": [
    {
     "name": "stdout",
     "output_type": "stream",
     "text": [
      "search_cv.best_params_ = {'nb_hidden': 1, 'nb_neurons': 10}\n",
      "search_cv.best_score_ = 0.810161475499713\n"
     ]
    }
   ],
   "source": [
    "print(f\"search_cv.best_params_ = {search_cv.best_params_}\")\n",
    "\n",
    "print(f\"search_cv.best_score_ = {search_cv.best_score_}\") "
   ]
  }
 ],
 "metadata": {
  "kernelspec": {
   "display_name": "Python 3 (ipykernel)",
   "language": "python",
   "name": "python3"
  },
  "language_info": {
   "codemirror_mode": {
    "name": "ipython",
    "version": 3
   },
   "file_extension": ".py",
   "mimetype": "text/x-python",
   "name": "python",
   "nbconvert_exporter": "python",
   "pygments_lexer": "ipython3",
   "version": "3.8.18"
  },
  "widgets": {
   "application/vnd.jupyter.widget-state+json": {
    "state": {},
    "version_major": 2,
    "version_minor": 0
   }
  }
 },
 "nbformat": 4,
 "nbformat_minor": 5
}
