{
 "cells": [
  {
   "cell_type": "code",
   "execution_count": 1,
   "id": "73e1f703-4357-4c01-a318-52ff792bb106",
   "metadata": {
    "tags": []
   },
   "outputs": [
    {
     "name": "stdout",
     "output_type": "stream",
     "text": [
      "Requirement already satisfied: nltk in /opt/conda/lib/python3.10/site-packages (3.8.1)\n",
      "Collecting fuzzywuzzy[speedup]\n",
      "  Downloading fuzzywuzzy-0.18.0-py2.py3-none-any.whl.metadata (4.9 kB)\n",
      "Collecting python-levenshtein>=0.12 (from fuzzywuzzy[speedup])\n",
      "  Downloading python_Levenshtein-0.25.1-py3-none-any.whl.metadata (3.7 kB)\n",
      "Requirement already satisfied: click in /opt/conda/lib/python3.10/site-packages (from nltk) (8.1.7)\n",
      "Requirement already satisfied: joblib in /opt/conda/lib/python3.10/site-packages (from nltk) (1.4.2)\n",
      "Requirement already satisfied: regex>=2021.8.3 in /opt/conda/lib/python3.10/site-packages (from nltk) (2024.7.24)\n",
      "Requirement already satisfied: tqdm in /opt/conda/lib/python3.10/site-packages (from nltk) (4.66.4)\n",
      "Collecting Levenshtein==0.25.1 (from python-levenshtein>=0.12->fuzzywuzzy[speedup])\n",
      "  Downloading Levenshtein-0.25.1-cp310-cp310-manylinux_2_17_x86_64.manylinux2014_x86_64.whl.metadata (3.3 kB)\n",
      "Collecting rapidfuzz<4.0.0,>=3.8.0 (from Levenshtein==0.25.1->python-levenshtein>=0.12->fuzzywuzzy[speedup])\n",
      "  Downloading rapidfuzz-3.9.5-cp310-cp310-manylinux_2_17_x86_64.manylinux2014_x86_64.whl.metadata (12 kB)\n",
      "Downloading python_Levenshtein-0.25.1-py3-none-any.whl (9.4 kB)\n",
      "Downloading Levenshtein-0.25.1-cp310-cp310-manylinux_2_17_x86_64.manylinux2014_x86_64.whl (177 kB)\n",
      "\u001b[2K   \u001b[90m━━━━━━━━━━━━━━━━━━━━━━━━━━━━━━━━━━━━━━━━\u001b[0m \u001b[32m177.4/177.4 kB\u001b[0m \u001b[31m3.5 MB/s\u001b[0m eta \u001b[36m0:00:00\u001b[0m:00:01\u001b[0m\n",
      "\u001b[?25hDownloading fuzzywuzzy-0.18.0-py2.py3-none-any.whl (18 kB)\n",
      "Downloading rapidfuzz-3.9.5-cp310-cp310-manylinux_2_17_x86_64.manylinux2014_x86_64.whl (3.4 MB)\n",
      "\u001b[2K   \u001b[90m━━━━━━━━━━━━━━━━━━━━━━━━━━━━━━━━━━━━━━━━\u001b[0m \u001b[32m3.4/3.4 MB\u001b[0m \u001b[31m42.7 MB/s\u001b[0m eta \u001b[36m0:00:00\u001b[0m:00:01\u001b[0m\n",
      "\u001b[?25hInstalling collected packages: fuzzywuzzy, rapidfuzz, Levenshtein, python-levenshtein\n",
      "Successfully installed Levenshtein-0.25.1 fuzzywuzzy-0.18.0 python-levenshtein-0.25.1 rapidfuzz-3.9.5\n"
     ]
    }
   ],
   "source": [
    "# Install necessary libraries\n",
    "!pip install fuzzywuzzy[speedup] nltk\n",
    "\n"
   ]
  },
  {
   "cell_type": "code",
   "execution_count": 2,
   "id": "7af75814-e8b7-4193-bc37-8e4ab314665e",
   "metadata": {
    "tags": []
   },
   "outputs": [
    {
     "name": "stderr",
     "output_type": "stream",
     "text": [
      "[nltk_data] Downloading package punkt to /home/BB54_CB/nltk_data...\n"
     ]
    },
    {
     "name": "stdout",
     "output_type": "stream",
     "text": [
      "Summary Sentence: \n",
      "KRAS is the most frequently mutated oncogene in various cancers, notably non-small cell lung cancer (NSCLC) and colorectal cancer, with mutations primarily occurring in codon 12.\n",
      "Best Match in Abstract: Different KRAS mutations may represent a unique biologic context with different prognostic and therapeutic impact.\n",
      "Match Score: 86\n",
      "\n",
      "Summary Sentence: These mutations, particularly G12C, G12V, and G12D, result in sustained activation of downstream pathways, making KRAS a critical therapeutic target.\n",
      "Best Match in Abstract: Across the cohort, 4,706 (27.5%) samples harbored a KRAS mutation.\n",
      "Match Score: 86\n",
      "\n",
      "Summary Sentence: Recent advances have led to the development of direct inhibitors, such as sotorasib and adagrasib, specifically targeting KRAS-G12C, showing promise in NSCLC treatment.\n",
      "Best Match in Abstract: Across the cohort, 4,706 (27.5%) samples harbored a KRAS mutation.\n",
      "Match Score: 86\n",
      "\n",
      "Summary Sentence: Comprehensive genomic profiling reveals that different KRAS mutations have distinct co-occurring mutations, such as TP53 and STK11, and varying tumor mutational burdens and PD-L1 expression, influencing therapeutic responses.\n",
      "Best Match in Abstract: \n",
      "KRAS is the most commonly mutated oncogene in NSCLC and development of direct KRAS inhibitors has renewed interest in this molecular variant.\n",
      "Match Score: 86\n",
      "\n",
      "Summary Sentence: Current research is focused on understanding the biological and genomic landscapes of KRAS mutations, developing novel KRAS inhibitors, and exploring indirect targeting approaches to improve therapeutic outcomes and manage cancer more effectively.\n",
      "Best Match in Abstract: \n",
      "KRAS is the most commonly mutated oncogene in NSCLC and development of direct KRAS inhibitors has renewed interest in this molecular variant.\n",
      "Match Score: 86\n",
      "\n"
     ]
    },
    {
     "name": "stderr",
     "output_type": "stream",
     "text": [
      "[nltk_data]   Package punkt is already up-to-date!\n"
     ]
    }
   ],
   "source": [
    "import nltk\n",
    "from fuzzywuzzy import process\n",
    "from nltk.tokenize import sent_tokenize\n",
    "\n",
    "# Download NLTK data\n",
    "nltk.download('punkt')\n",
    "\n",
    "# Provided abstracts (as a single text for simplicity)\n",
    "abstracts = \"\"\"\n",
    "KRAS is the most commonly mutated oncogene in NSCLC and development of direct KRAS inhibitors has renewed interest in this molecular variant. Different KRAS mutations may represent a unique biologic context with different prognostic and therapeutic impact. We sought to characterize genomic landscapes of advanced, KRAS-mutated non-small cell lung cancer (NSCLC) in a large national cohort to help guide future therapeutic development. Molecular profiles of 17,095 NSCLC specimens were obtained using DNA next-generation sequencing of 592 genes (Caris Life Sciences) and classified on the basis of presence and subtype of KRAS mutations. Co-occurring genomic alterations, tumor mutational burden (TMB), and PD-L1 expression [22C3, tumor proportion score (TPS) score] were analyzed by KRAS mutation type. Across the cohort, 4,706 (27.5%) samples harbored a KRAS mutation. The most common subtype was G12C (40%), followed by G12V (19%) and G12D (15%). The prevalence of KRAS mutations was 37.2% among adenocarcinomas and 4.4% in squamous cell carcinomas. Rates of high TMB (≥10 mutations/Mb) and PD-L1 expression varied across KRAS mutation subtypes. KRAS G12C was the most likely to be PD-L1 positive (65.5% TPS ≥ 1%) and PD-L1 high (41.3% TPS ≥ 50%). STK11 was mutated in 8.6% of KRAS wild-type NSCLC but more frequent in KRAS-mutant NSCLC, with the highest rate in G13 (36.2%). TP53 mutations were more frequent in KRAS wild-type NSCLC (73.6%). KRAS mutation subtypes have different co-occurring mutations and a distinct genomic landscape. The clinical relevance of these differences in the context of specific therapeutic interventions warrants investigation.\n",
    "\n",
    "The KRAS mutation stands out as one of the most influential oncogenic mutations, which directly regulates the hallmark features of cancer and interacts with other cancer-causing driver mutations. However, there remains a lack of precise information on their cooccurrence with mutated variants of KRAS and any correlations between KRAS and other driver mutations. To enquire about this issue, we delved into cBioPortal, TCGA, UALCAN, and Uniport studies. We aimed to unravel the complexity of KRAS and its relationships with other driver mutations. We noticed that G12D and G12V are the prevalent mutated variants of KRAS and coexist with the TP53 mutation in PAAD and CRAD, while G12C and G12V coexist with LUAD. We also noticed similar observations in the case of PIK3CA and APC mutations in CRAD. At the transcript level, a positive correlation exists between KRAS and PIK3CA and between APC and KRAS in CRAD. The existence of the co-mutation of KRAS and other driver mutations could influence the signaling pathway in the neoplastic transformation. Moreover, it has immense prognostic and predictive implications, which could help in better therapeutic management to treat cancer.\n",
    "\n",
    "The KRAS oncogene is mutated in approximately 35%-45% of colorectal cancers, and KRAS mutational status testing has been highlighted in recent years. The most frequent mutations in this gene, point substitutions in codons 12 and 13, were validated as negative predictors of response to anti-epidermal growth factor receptor antibodies. Therefore, determining the KRAS mutational status of tumor samples has become an essential tool for managing patients with colorectal cancers. Currently, a variety of detection methods have been established to analyze the mutation status in the key regions of the KRAS gene; however, several challenges remain related to standardized and uniform testing, including the selection of tumor samples, tumor sample processing and optimal testing methods. Moreover, new testing strategies, in combination with the mutation analysis of BRAF, PIK3CA and loss of PTEN proposed by many researchers and pathologists, should be promoted. In addition, we recommend that microsatellite instability, a prognostic factor, be added to the abovementioned concomitant analysis. This review provides an overview of KRAS biology and the recent advances in KRAS mutation testing. This review also addresses other aspects of status testing for determining the appropriate treatment and offers insight into the potential drawbacks of mutational testing.\n",
    "\n",
    "KRAS is the most frequently mutated oncogene in cancer. Activating mutations in codon 12, especially G12D, have the highest prevalence across a range of carcinomas and adenocarcinomas. With inhibitors to KRAS-G12D now entering clinical trials, understanding the biology of KRAS-G12D cancers, and identifying biomarkers that predict therapeutic response is crucial. In this Review, we discuss the genomics and biology of KRAS-G12D adenocarcinomas, including histological features, transcriptional landscape, the immune microenvironment, and how these factors influence response to therapy. Moreover, we explore potential therapeutic strategies using novel G12D inhibitors, leveraging knowledge gained from clinical trials using G12C inhibitors.\n",
    "\n",
    "Kirsten rat sarcoma 2 viral oncogene homolog (KRAS) is the most frequently mutated oncogene in human cancers with mutations predominantly occurring in codon 12. These mutations disrupt the normal function of KRAS by interfering with GTP hydrolysis and nucleotide exchange activity, making it prone to the GTP-bound active state, thus leading to sustained activation of downstream pathways. Despite decades of research, there has been no progress in the KRAS drug discovery until the groundbreaking discovery of covalently targeting the KRASG12C mutation in 2013, which led to revolutionary changes in KRAS-targeted therapy. So far, two small molecule inhibitors sotorasib and adagrasib targeting KRASG12C have received accelerated approval for the treatment of non-small cell lung cancer (NSCLC) harboring KRASG12C mutations. In recent years, rapid progress has been achieved in the KRAS-targeted therapy field, especially the exploration of KRASG12C covalent inhibitors in other KRASG12C-positive malignancies, novel KRAS inhibitors beyond KRASG12C mutation or pan-KRAS inhibitors, and approaches to indirectly targeting KRAS. In this review, we provide a comprehensive overview of the molecular and mutational characteristics of KRAS and summarize the development and current status of covalent inhibitors targeting the KRASG12C mutation. We also discuss emerging promising KRAS-targeted therapeutic strategies, with a focus on mutation-specific and direct pan-KRAS inhibitors and indirect KRAS inhibitors through targeting the RAS activation-associated proteins Src homology-2 domain-containing phosphatase 2 (SHP2) and son of sevenless homolog 1 (SOS1), and shed light on current challenges and opportunities for drug discovery in this field.\n",
    "\"\"\"\n",
    "\n",
    "# Summary to be split into sentences\n",
    "summary = \"\"\"\n",
    "KRAS is the most frequently mutated oncogene in various cancers, notably non-small cell lung cancer (NSCLC) and colorectal cancer, with mutations primarily occurring in codon 12. These mutations, particularly G12C, G12V, and G12D, result in sustained activation of downstream pathways, making KRAS a critical therapeutic target. Recent advances have led to the development of direct inhibitors, such as sotorasib and adagrasib, specifically targeting KRAS-G12C, showing promise in NSCLC treatment. Comprehensive genomic profiling reveals that different KRAS mutations have distinct co-occurring mutations, such as TP53 and STK11, and varying tumor mutational burdens and PD-L1 expression, influencing therapeutic responses. Current research is focused on understanding the biological and genomic landscapes of KRAS mutations, developing novel KRAS inhibitors, and exploring indirect targeting approaches to improve therapeutic outcomes and manage cancer more effectively.\n",
    "\"\"\"\n",
    "\n",
    "# Tokenize the abstracts and the summary into sentences\n",
    "abstract_sentences = sent_tokenize(abstracts)\n",
    "summary_sentences = sent_tokenize(summary)\n",
    "\n",
    "# Function to find the best match for each summary sentence in the abstracts\n",
    "def match_summary_to_abstract(summary_sentences, abstract_sentences):\n",
    "    matches = {}\n",
    "    for summary_sentence in summary_sentences:\n",
    "        best_match, score = process.extractOne(summary_sentence, abstract_sentences)\n",
    "        matches[summary_sentence] = (best_match, score)\n",
    "    return matches\n",
    "\n",
    "# Perform the matching\n",
    "matches = match_summary_to_abstract(summary_sentences, abstract_sentences)\n",
    "\n",
    "# Display the matches\n",
    "for summary_sentence, (best_match, score) in matches.items():\n",
    "    print(f\"Summary Sentence: {summary_sentence}\")\n",
    "    print(f\"Best Match in Abstract: {best_match}\")\n",
    "    print(f\"Match Score: {score}\")\n",
    "    print()\n"
   ]
  },
  {
   "cell_type": "code",
   "execution_count": null,
   "id": "fe7bdf21-7aac-4c8d-8cd3-8a16fb00637f",
   "metadata": {
    "tags": []
   },
   "outputs": [],
   "source": []
  },
  {
   "cell_type": "code",
   "execution_count": null,
   "id": "6939d8a3-38d6-4566-9849-abf04c26aa5e",
   "metadata": {},
   "outputs": [],
   "source": []
  }
 ],
 "metadata": {
  "environment": {
   "kernel": "conda-base-py",
   "name": "workbench-notebooks.m123",
   "type": "gcloud",
   "uri": "us-docker.pkg.dev/deeplearning-platform-release/gcr.io/workbench-notebooks:m123"
  },
  "kernelspec": {
   "display_name": "Python 3 (ipykernel)",
   "language": "python",
   "name": "conda-base-py"
  },
  "language_info": {
   "codemirror_mode": {
    "name": "ipython",
    "version": 3
   },
   "file_extension": ".py",
   "mimetype": "text/x-python",
   "name": "python",
   "nbconvert_exporter": "python",
   "pygments_lexer": "ipython3",
   "version": "3.10.14"
  }
 },
 "nbformat": 4,
 "nbformat_minor": 5
}
